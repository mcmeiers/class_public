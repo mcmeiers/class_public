{
 "cells": [
  {
   "cell_type": "code",
   "execution_count": 3,
   "metadata": {},
   "outputs": [],
   "source": [
    "from __future__ import unicode_literals, print_function, division\n",
    "\n",
    "import numpy as np\n",
    "import scipy.integrate as integrate\n",
    "\n",
    "from scipy import constants\n",
    "from scipy import interpolate\n",
    "\n",
    "_GN_ = constants.gravitational_constant # Meter^3 Kilogram^-1 Second^-2 \n",
    "_c_light_ = constants.c # Meter Second^-1\n",
    "_eV_ = constants.eV; # Meter^2 Kilogram Second^-2\n",
    "_kB_ = constants.Boltzmann # Joule Kelvin^-1\n",
    "_hP_ = constants.Planck # Joule Second \n",
    "_aB_ = 8*np.pi**5*_kB_**4/(15*_hP_**3*_c_light_**3) #Joule Kelvin^-4 Meter-3"
   ]
  },
  {
   "cell_type": "code",
   "execution_count": 4,
   "metadata": {},
   "outputs": [],
   "source": [
    "Tcmb0 = 2.7255 # Kelvin \n",
    "Nur0 = 3.046;\n",
    "h0 = 0.67556;\n",
    "Omega_b0 = 0.022032;\n",
    "Omega_cdm0 = 0.12038;\n",
    "defaultParm = {\"T\":Tcmb0, 'Nur':Nur0,'h':h0, 'Omega_b':Omega_b0, 'Omega_cdm': Omega_cdm0};"
   ]
  },
  {
   "cell_type": "code",
   "execution_count": 6,
   "metadata": {},
   "outputs": [],
   "source": [
    "\n",
    "\n",
    "class cosmic_fluid(object):\n",
    "    \"\"\"A fluid model for cosmic material\n",
    "    \n",
    "        naught values corrispond to today\n",
    "        \n",
    "        \"\"\"\n",
    "    pass\n",
    "        \n",
    "class cosmic_fluid_const_w(cosmic_fluid):\n",
    "    \"\"\"A cosmic fluid with constant w(a)\"\"\"\n",
    "    \n",
    "    def __init__(self,rho_ref,w,a_0=1.,a_ref=1.):\n",
    "        self.w = lambda a=a_0: w\n",
    "        self.a_0 = a_0\n",
    "        self.rho_0 = rho_ref * (a_ref/a_0)**(3*(1+w))\n",
    "        \n",
    "    def rho(self,a):\n",
    "        return self.rho_0*(self.a_0/a)**(3*(1+ self.w()))\n",
    "    \n",
    "    def p(self,a):\n",
    "        return self.rho(a) * self.w(a)\n",
    "    \n",
    "class cosmic_fluid_spline_w(cosmic_fluid):\n",
    "    \"\"\"A cosmic fluid with a given spline made with numpy.interpolate.splrep for w(a)\"\"\"\n",
    "    \n",
    "    def __init__(self,rho_ref,w_splinerep,a_0=1.,a_ref=1.):\n",
    "        self.w_spline_rep = w_splinerep\n",
    "        self.w = lambda a:interpolate.splev(np.log10(a), w_splinerep, der=0)\n",
    "        self.a_0 = a_0\n",
    "        self.rho_0 = rho_ref * (a_ref/a_0)**3* 10**(-3*interpolate.splint(np.log10(a_ref),np.log10(a_0),w_gamma_spline_rep))\n",
    "        \n",
    "    def rho(self,a):\n",
    "        return self.rho_0*(self.a_0/a)**3 * 10**(-3*interpolate.splint(np.log10(self.a_0),np.log10(a),w_gamma_spline_rep))\n",
    "    \n",
    "    def p(self,a):\n",
    "        return self.rho(a) * self.w(a)\n",
    "    \n",
    "    \n",
    "def rho_0_gamma(T=Tcmb0):\n",
    "    return _aB_ / _c_light_**2 * T**4\n",
    "    \n",
    "def w_gamma(a):\n",
    "    return 1./3.\n",
    "\n",
    "log10a_range= np.arange(-14.5,0.5,0.1)\n",
    "vw=np.vectorize(w_gamma)\n",
    "vw(log10a_range)\n",
    "w_gamma_spline_rep=interpolate.splrep(log10a_range, vw(log10a_range), s=0)\n",
    "\n",
    "gamma_spl = cosmic_fluid_spline_w(rho_0_gamma(),w_gamma_spline_rep,a_ref=1/2)\n",
    "gamma= cosmic_fluid_const_w(rho_0_gamma(),1/3)"
   ]
  },
  {
   "cell_type": "code",
   "execution_count": 26,
   "metadata": {},
   "outputs": [
    {
     "data": {
      "text/plain": [
       "(1.666666666666667, 1.8503717077085944e-14)"
      ]
     },
     "execution_count": 26,
     "metadata": {},
     "output_type": "execute_result"
    }
   ],
   "source": [
    "def w_gamma(loga):\n",
    "    return 1/3\n",
    "\n",
    "integrate.quad(w_gamma, 0, 5)"
   ]
  },
  {
   "cell_type": "code",
   "execution_count": 173,
   "metadata": {},
   "outputs": [
    {
     "data": {
      "text/plain": [
       "array(0.33333333)"
      ]
     },
     "execution_count": 173,
     "metadata": {},
     "output_type": "execute_result"
    }
   ],
   "source": [
    "test = gamma_spl.w(10**-6)\n",
    "test"
   ]
  },
  {
   "cell_type": "code",
   "execution_count": 13,
   "metadata": {},
   "outputs": [
    {
     "data": {
      "text/plain": [
       "array([-20. , -19.6, -19.2, -18.8, -18.4, -18. ])"
      ]
     },
     "execution_count": 13,
     "metadata": {},
     "output_type": "execute_result"
    }
   ],
   "source": [
    "np.array(-15,-5,-4.6,-4.2,-3.8,-3.4,-3,0)\n",
    "\n",
    "\n"
   ]
  },
  {
   "cell_type": "code",
   "execution_count": 171,
   "metadata": {},
   "outputs": [
    {
     "data": {
      "text/plain": [
       "0.0"
      ]
     },
     "execution_count": 171,
     "metadata": {},
     "output_type": "execute_result"
    }
   ],
   "source": [
    "w_gamma_spline_rep=interpolate.splrep(log10a_range, vw(log10a_range), s=0)\n",
    "interpolate.splev(log10a_range, w_gamma_spline_rep, der=0)\n",
    "interpolate.splint(1,1,w_gamma_spline_rep)"
   ]
  },
  {
   "cell_type": "code",
   "execution_count": 132,
   "metadata": {},
   "outputs": [
    {
     "data": {
      "text/plain": [
       "array([0.33333333, 0.33333333, 0.33333333, 0.33333333, 0.33333333,\n",
       "       0.33333333, 0.33333333, 0.33333333, 0.33333333, 0.33333333,\n",
       "       0.33333333, 0.33333333, 0.33333333, 0.33333333, 0.33333333,\n",
       "       0.33333333, 0.33333333, 0.33333333, 0.33333333, 0.33333333,\n",
       "       0.33333333, 0.33333333, 0.33333333, 0.33333333, 0.33333333,\n",
       "       0.33333333, 0.33333333, 0.33333333, 0.33333333, 0.33333333,\n",
       "       0.33333333, 0.33333333, 0.33333333, 0.33333333, 0.33333333,\n",
       "       0.33333333, 0.33333333, 0.33333333, 0.33333333, 0.33333333,\n",
       "       0.33333333, 0.33333333, 0.33333333, 0.33333333, 0.33333333,\n",
       "       0.33333333, 0.33333333, 0.33333333, 0.33333333, 0.33333333,\n",
       "       0.33333333, 0.33333333, 0.33333333, 0.33333333, 0.33333333,\n",
       "       0.33333333, 0.33333333, 0.33333333, 0.33333333, 0.33333333,\n",
       "       0.33333333, 0.33333333, 0.33333333, 0.33333333, 0.33333333,\n",
       "       0.33333333, 0.33333333, 0.33333333, 0.33333333, 0.33333333,\n",
       "       0.33333333, 0.33333333, 0.33333333, 0.33333333, 0.33333333,\n",
       "       0.33333333, 0.33333333, 0.33333333, 0.33333333, 0.33333333,\n",
       "       0.33333333, 0.33333333, 0.33333333, 0.33333333, 0.33333333,\n",
       "       0.33333333, 0.33333333, 0.33333333, 0.33333333, 0.33333333,\n",
       "       0.33333333, 0.33333333, 0.33333333, 0.33333333, 0.33333333,\n",
       "       0.33333333, 0.33333333, 0.33333333, 0.33333333, 0.33333333,\n",
       "       0.33333333, 0.33333333, 0.33333333, 0.33333333, 0.33333333,\n",
       "       0.33333333, 0.33333333, 0.33333333, 0.33333333, 0.33333333,\n",
       "       0.33333333, 0.33333333, 0.33333333, 0.33333333, 0.33333333,\n",
       "       0.33333333, 0.33333333, 0.33333333, 0.33333333, 0.33333333,\n",
       "       0.33333333, 0.33333333, 0.33333333, 0.33333333, 0.33333333,\n",
       "       0.33333333, 0.33333333, 0.33333333, 0.33333333, 0.33333333,\n",
       "       0.33333333, 0.33333333, 0.33333333, 0.33333333, 0.33333333,\n",
       "       0.33333333, 0.33333333, 0.33333333, 0.33333333, 0.33333333,\n",
       "       0.33333333, 0.33333333, 0.33333333, 0.33333333, 0.33333333,\n",
       "       0.33333333, 0.33333333, 0.33333333, 0.33333333, 0.33333333])"
      ]
     },
     "execution_count": 132,
     "metadata": {},
     "output_type": "execute_result"
    }
   ],
   "source": [
    "vw(log10a_range)"
   ]
  },
  {
   "cell_type": "code",
   "execution_count": 87,
   "metadata": {},
   "outputs": [
    {
     "data": {
      "text/plain": [
       "array([-15. , -14.5, -14. , -13.5, -13. , -12.5, -12. , -11.5, -11. ,\n",
       "       -10.5, -10. ,  -9.5,  -9. ,  -8.5,  -8. ,  -7.5,  -7. ,  -6.5,\n",
       "        -6. ,  -5.5,  -5. ,  -4.5,  -4. ,  -3.5,  -3. ,  -2.5,  -2. ,\n",
       "        -1.5,  -1. ,  -0.5,   0. ,   0.5])"
      ]
     },
     "execution_count": 87,
     "metadata": {},
     "output_type": "execute_result"
    }
   ],
   "source": [
    "np.arange(-15,1,0.5)"
   ]
  },
  {
   "cell_type": "code",
   "execution_count": 2,
   "metadata": {},
   "outputs": [],
   "source": [
    "rho_0['crit', opts : OptionsPattern[]] = ((3  H0[opts]^2)/(\n",
    "   8 \\[Pi] GN));\n",
    "\\[Rho]0[\\[Gamma], OptionsPattern[]] = \n",
    "  aB/c\\[Gamma]^2*OptionValue[T]^4;\n",
    "\\[Rho]0[\\[Nu], \n",
    "   opts : OptionsPattern[]] = \\[Rho]0[\\[Gamma], opts]*7/\n",
    "    8*(4/11)^(4/3)*OptionValue[Nur];\n",
    "\\[Rho]0[r, \n",
    "   opts : OptionsPattern[]] = \\[Rho]0[\\[Gamma], opts] + \\[Rho]0[\\[Nu],\n",
    "     opts];\n",
    "\\[Rho]0[b, opts : OptionsPattern[]] = \n",
    "  OptionValue[\\[Omega]b] \\[Rho]0[crit, opts]/OptionValue[h]^2;\n",
    "\\[Rho]0[cdm, opts : OptionsPattern[]] = \n",
    "  OptionValue[\\[Omega]cdm] \\[Rho]0[crit, opts]/OptionValue[h]^2;\n",
    "\\[Rho]0[m, \n",
    "   opts : OptionsPattern[]] = \\[Rho]0[b, opts] + \\[Rho]0[cdm, opts];\n",
    "\\[Rho]0[bg, \n",
    "   opts : OptionsPattern[]] = \\[Rho]0[m, opts] + \\[Rho]0[r, opts];\n",
    "\n",
    "\\[Rho]0[\\[CapitalLambda], \n",
    "   opts : OptionsPattern[]] = \\[Rho]0[crit, opts] - \\[Rho]0[bg, opts];\n",
    "\n",
    "\\[Rho]0[general_, opts : OptionsPattern[]] = \\[Rho][general, opts][1];\n",
    "\n",
    "Options[\\[CapitalOmega]] = defaultParm;\n",
    "\\[CapitalOmega][MaterialIndex_, \n",
    "   opts : OptionsPattern[]] = \\[Rho]0[MaterialIndex, opts]/\\[Rho]0[\n",
    "    crit, opts];\n",
    "\n",
    "\n",
    "Options[\\[Omega]0] = defaultParm;\n",
    "\\[Omega]0[MaterialIndex_, \n",
    "   opts : OptionsPattern[]] = \\[CapitalOmega][MaterialIndex, \n",
    "    opts] OptionValue[h]^2;\n",
    "\n",
    "conWMaterialIndex = {\\[Gamma], \\[Nu], r, b, cdm, \n",
    "   m, \\[CapitalLambda]};\n",
    "w[\\[Gamma]][a_] = 1/3;\n",
    "w[\\[Nu]][a_] = 1/3;\n",
    "w[r][a_] = 1/3;\n",
    "w[b][a_] = 0;\n",
    "w[cdm][a_] = 0;\n",
    "w[m][a_] = 0;\n",
    "w[\\[CapitalLambda]][a_] = -1;\n",
    "\n",
    "\n",
    "Options[\\[Rho]] = defaultParm;\n",
    "\\[Rho][MaterialIndex_?(MemberQ[conWMaterialIndex, #] &), \n",
    "    opts : OptionsPattern[]][\n",
    "   a_] = \\[Rho]0[MaterialIndex, opts] a^(-3 (1 + w[MaterialIndex][a]));\n",
    "\\[Rho][bg, opts : OptionsPattern[]][\n",
    "   a_] = \\[Rho]0[m, opts] a^(-3 (1 + w[m][a])) + \\[Rho]0[r, \n",
    "     opts] a^(-3 (1 + w[r][a]));\n",
    "\n",
    "Options[\\[Omega]] = defaultParm;\n",
    "\\[Omega][MaterialIndex_?(MemberQ[conWMaterialIndex, #] &), \n",
    "    opts : OptionsPattern[]][\n",
    "   a_] = \\[Omega]0[MaterialIndex, \n",
    "    opts] a^(-3 (1 + w[MaterialIndex][a]));\n",
    "\n",
    "\n",
    "w[bg][a_] = (\n",
    "   w[r][a] \\[Rho][r][a] + w[m][a] \\[Rho][m][a])/\\[Rho][bg][a] // \n",
    "   FullSimplify;"
   ]
  },
  {
   "cell_type": "code",
   "execution_count": 14,
   "metadata": {},
   "outputs": [],
   "source": [
    "def foo(**defaultParm):\n",
    "        T"
   ]
  },
  {
   "cell_type": "code",
   "execution_count": 9,
   "metadata": {},
   "outputs": [
    {
     "data": {
      "text/plain": [
       "2.7255"
      ]
     },
     "execution_count": 9,
     "metadata": {},
     "output_type": "execute_result"
    }
   ],
   "source": [
    "defaultParm['T']"
   ]
  },
  {
   "cell_type": "code",
   "execution_count": 15,
   "metadata": {},
   "outputs": [
    {
     "ename": "NameError",
     "evalue": "global name 'T' is not defined",
     "output_type": "error",
     "traceback": [
      "\u001b[0;31m---------------------------------------------------------------------------\u001b[0m",
      "\u001b[0;31mNameError\u001b[0m                                 Traceback (most recent call last)",
      "\u001b[0;32m<ipython-input-15-c19b6d9633cf>\u001b[0m in \u001b[0;36m<module>\u001b[0;34m()\u001b[0m\n\u001b[0;32m----> 1\u001b[0;31m \u001b[0mfoo\u001b[0m\u001b[0;34m(\u001b[0m\u001b[0;34m)\u001b[0m\u001b[0;34m\u001b[0m\u001b[0m\n\u001b[0m",
      "\u001b[0;32m<ipython-input-14-487a1b1dbfb4>\u001b[0m in \u001b[0;36mfoo\u001b[0;34m(**defaultParm)\u001b[0m\n\u001b[1;32m      1\u001b[0m \u001b[0;32mdef\u001b[0m \u001b[0mfoo\u001b[0m\u001b[0;34m(\u001b[0m\u001b[0;34m**\u001b[0m\u001b[0mdefaultParm\u001b[0m\u001b[0;34m)\u001b[0m\u001b[0;34m:\u001b[0m\u001b[0;34m\u001b[0m\u001b[0m\n\u001b[0;32m----> 2\u001b[0;31m         \u001b[0mT\u001b[0m\u001b[0;34m\u001b[0m\u001b[0m\n\u001b[0m",
      "\u001b[0;31mNameError\u001b[0m: global name 'T' is not defined"
     ]
    }
   ],
   "source": [
    "foo()"
   ]
  },
  {
   "cell_type": "code",
   "execution_count": null,
   "metadata": {},
   "outputs": [],
   "source": []
  }
 ],
 "metadata": {
  "kernelspec": {
   "display_name": "Python 2",
   "language": "python",
   "name": "python2"
  },
  "language_info": {
   "codemirror_mode": {
    "name": "ipython",
    "version": 2
   },
   "file_extension": ".py",
   "mimetype": "text/x-python",
   "name": "python",
   "nbconvert_exporter": "python",
   "pygments_lexer": "ipython2",
   "version": "2.7.17"
  }
 },
 "nbformat": 4,
 "nbformat_minor": 2
}
