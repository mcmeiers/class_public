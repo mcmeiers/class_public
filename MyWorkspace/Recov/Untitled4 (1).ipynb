{
 "cells": [
  {
   "cell_type": "code",
   "execution_count": 1,
   "metadata": {},
   "outputs": [],
   "source": [
    "from __future__ import unicode_literals, print_function, division\n",
    "import copy\n",
    "\n",
    "import numpy as np\n",
    "import scipy.integrate as integrate\n",
    "\n",
    "from scipy import constants\n",
    "from scipy import interpolate\n",
    "\n",
    "# Plotting\n",
    "import matplotlib.pyplot as plt\n",
    "from matplotlib import scale as mscale\n",
    "from matplotlib.transforms import Transform\n",
    "from matplotlib.ticker import FixedLocator\n",
    "\n",
    "_GN_ = constants.gravitational_constant # Meter^3 Kilogram^-1 Second^-2 \n",
    "_c_light_ = constants.c # Meter Second^-1\n",
    "_eV_ = constants.eV; # Meter^2 Kilogram Second^-2\n",
    "_kB_ = constants.Boltzmann # Joule Kelvin^-1\n",
    "_hP_ = constants.Planck # Joule Second \n",
    "_aB_ = 8*np.pi**5*_kB_**4/(15*_hP_**3*_c_light_**3) #Joule Kelvin^-4 Meter-3\n",
    "\n",
    "#Conversions\n",
    "_Meter_per_MPc_ = constants.mega*constants.parsec\n",
    "H_0_std=100 * constants.kilo/_Meter_per_MPc_"
   ]
  },
  {
   "cell_type": "code",
   "execution_count": 2,
   "metadata": {},
   "outputs": [],
   "source": [
    "Tcmb_pk = 2.7255 # Kelvin \n",
    "Nur_pk = 3.046;\n",
    "h_pk = 0.67556;\n",
    "omega_b_pk = 0.022032;\n",
    "omega_cdm_pk = 0.12038;\n",
    "\n",
    "Omega_b_pk = omega_b_pk/(h_pk**2)\n",
    "Omega_cdm_pk = omega_cdm_pk/(h_pk**2)\n",
    "\n",
    "H_0_pk= h_pk* H_0_std\n",
    "rho_crit_pk= 3* H_0_pk**2 /(8*np.pi*_GN_)\n",
    "\n",
    "\n",
    "def a_of_z(z,a_0=1.):\n",
    "    return a_0/(1.+z)"
   ]
  },
  {
   "cell_type": "code",
   "execution_count": 3,
   "metadata": {},
   "outputs": [],
   "source": [
    "\n",
    "class cosmic_fluid(object):\n",
    "    \"\"\"A fluid model for cosmic material\n",
    "    \n",
    "        naught values corrispond to today\n",
    "        \n",
    "        \"\"\"\n",
    "    def p(self,a):\n",
    "        return self.rho(a) * self.w(a)\n",
    " \n",
    "        \n",
    "class cosmic_fluid_const_w(cosmic_fluid):\n",
    "    \"\"\"A cosmic fluid with constant w(a)\"\"\"\n",
    "    \n",
    "    def __init__(self,rho_ref,w,a_0=1.,a_ref=1.):\n",
    "        self.w = lambda a=a_0: w\n",
    "        self.a_0 = a_0\n",
    "        self.rho_0 = rho_ref * (a_ref/a_0)**(3*(1+w))\n",
    "        \n",
    "    def rho(self,a):\n",
    "            return self.rho_0*(self.a_0/a)**(3*(1+ self.w()))\n",
    "    \n",
    "\n",
    "    \n",
    "class cosmic_fluid_spline_w(cosmic_fluid):\n",
    "    \"\"\"A cosmic fluid with a given spline made with numpy.interpolate.splrep for w(a)\"\"\"\n",
    "    \n",
    "    def __init__(self,rho_ref,w_splinerep,a_0=1.,a_ref=1.):\n",
    "        self.w_spline_rep = copy.copy(w_splinerep)\n",
    "        self.w = lambda a:interpolate.splev(np.log10(a), self.w_spline_rep, der=0)\n",
    "        self.a_0 = a_0\n",
    "        self.rho_0 = rho_ref * (a_ref/a_0)**3* 10**(-3*interpolate.splint(np.log10(a_ref),np.log10(a_0),w_gamma_spline_rep))\n",
    "        \n",
    "    def rho(self,a):\n",
    "        return self.rho_0*(self.a_0/a)**3 * 10**(-3*interpolate.splint(np.log10(self.a_0),np.log10(a),w_gamma_spline_rep))\n",
    "    "
   ]
  },
  {
   "cell_type": "code",
   "execution_count": 4,
   "metadata": {},
   "outputs": [
    {
     "data": {
      "text/plain": [
       "True"
      ]
     },
     "execution_count": 4,
     "metadata": {},
     "output_type": "execute_result"
    }
   ],
   "source": [
    "#A test of spline vs constant w\n",
    "\n",
    "def rho_0_gamma(T=Tcmb_pk):\n",
    "    return _aB_ / _c_light_**2 * T**4\n",
    "\n",
    "gamma= cosmic_fluid_const_w(rho_0_gamma(),1/3)\n",
    "\n",
    "def w_gamma(a):\n",
    "    return 1./3.\n",
    "\n",
    "log10a_range= np.arange(-14.5,0.5,0.1)\n",
    "vw=np.vectorize(w_gamma)\n",
    "vw(log10a_range)\n",
    "w_gamma_spline_rep=interpolate.splrep(log10a_range, vw(log10a_range), s=0)\n",
    "\n",
    "gamma= cosmic_fluid_const_w(rho_0_gamma(),1/3)\n",
    "gamma_spl= cosmic_fluid_spline_w(rho_0_gamma(),w_gamma_spline_rep)\n",
    "gamma.rho(10**-2)==gamma_spl.rho(10**-2)"
   ]
  },
  {
   "cell_type": "code",
   "execution_count": 5,
   "metadata": {},
   "outputs": [],
   "source": [
    "\n",
    "class composite_fluid(object):\n",
    "    \"\"\" A collection of cosmic fluids with methods to have sum total of properties\"\"\"\n",
    "        \n",
    "    def __init__(self,fluids,a_0=1):\n",
    "        self.fluids = copy.copy(fluids)\n",
    "        self.rho_0  = 0\n",
    "        self.a_0    = a_0\n",
    "\n",
    "        for fluid in fluids:\n",
    "            self.rho_0  += fluid.rho_0\n",
    "            assert self.a_0 == fluid.a_0,\"Uncommon scale factor for today\"\n",
    "\n",
    "\n",
    "    def rho(self,a):\n",
    "        rho_tot=0\n",
    "        for fluid in self.fluids:\n",
    "            rho_tot += fluid.rho(a)\n",
    "        return rho_tot\n",
    "    \n",
    "    def p(self,a):\n",
    "        p_tot=0\n",
    "        for fluid in fluids:\n",
    "            p_tot += fluid.p(a)\n",
    "        return p_tot\n",
    "    \n",
    "    def w(self,a):\n",
    "        rho_tot=0\n",
    "        p_tot=0\n",
    "        for fluid in fluids:\n",
    "            rho_tot += fluid.rho(a)\n",
    "            p_tot += fluid.p(a)\n",
    "        return p_tot/rho_tot \n",
    "    \n",
    "    \n",
    "\n",
    "        \n",
    " "
   ]
  },
  {
   "cell_type": "code",
   "execution_count": 29,
   "metadata": {},
   "outputs": [],
   "source": [
    "class universe(composite_fluid):\n",
    "    \"\"\" A model of the univsere as a collection of cosmic fluids\n",
    "                Several optional arguments\n",
    "                h - If provided a cosmological constant is added to satisfy H_0\n",
    "                k - Non-functioning\n",
    "                a_0 - a common scale factor value for today amongst the fluids\"\"\"\n",
    "        \n",
    "        \n",
    "    def __init__(self,fluids,h=None,k=0,a_0=1):\n",
    "        assert k==0, \"non-flat conditions have not been coded\"        \n",
    "        self.fluids = copy.copy(fluids)\n",
    "        \n",
    "        self.rho_0  = 0\n",
    "        self.a_0    = a_0\n",
    "        for fluid in fluids:\n",
    "            self.rho_0  += fluid.rho_0\n",
    "            assert self.a_0 == fluid.a_0,\"Uncommon scale factor for today\"\n",
    "\n",
    "        if h==None:\n",
    "            self.rho_crit = self.rho_0\n",
    "            self.H_0 =((8*np.pi*_GN_)*self.rho_crit/3)**0.5\n",
    "            self.h = self.H_0/H_0_std\n",
    "        else:\n",
    "            self.h=h\n",
    "            self.H_0= h * H_0_std\n",
    "            self.rho_crit= 3*(h * H_0_std)**2/(8*np.pi*_GN_)\n",
    "            if(self.rho_crit- self.rho_0!=0):\n",
    "                self.dark_energy = cosmic_fluid_const_w(self.rho_crit- self.rho_0, -1,a_0)\n",
    "                self.fluids= self.fluids+[self.dark_energy]\n",
    "            \n",
    "\n",
    "    \n",
    "    def Omega(self,fluid):\n",
    "        return fluid.rho_0/self.rho_crit\n",
    "        \n",
    "    def omega(self,fluid):\n",
    "        return fluid.rho_0/self.rho_crit * self.h ** 2 \n",
    "    \n",
    "    def rho_tot(self,a):\n",
    "        sum=0\n",
    "        for fluid in self.fluids:\n",
    "            sum += fluid.rho(a)\n",
    "        return sum    \n",
    "        "
   ]
  },
  {
   "cell_type": "code",
   "execution_count": 28,
   "metadata": {},
   "outputs": [],
   "source": [
    "def rho_0_gamma_pk(T=Tcmb_pk):\n",
    "    return _aB_ / _c_light_**2 * T**4\n",
    "\n",
    "gamma= cosmic_fluid_const_w(rho_0_gamma_pk(),1/3)\n",
    "\n",
    "def rho_0_nu_pk(T=Tcmb_pk,Nur=Nur_pk):\n",
    "    return   rho_0_gamma_pk(T)  *7./8.*(4./11.)**(4./3.)*Nur\n",
    "\n",
    "nu = cosmic_fluid_const_w(rho_0_nu_pk(),1/3)\n",
    "\n",
    "\n",
    "def rho_0_b_pk(Omega_b=Omega_b_pk,rho_crit=rho_crit_pk):\n",
    "    return Omega_b* rho_crit\n",
    "\n",
    "baryons = cosmic_fluid_const_w(rho_0_b_pk(),0)\n",
    "\n",
    "def rho_0_cdm_pk(Omega_cdm=Omega_cdm_pk,rho_crit=rho_crit_pk):\n",
    "    return Omega_cdm* rho_crit\n",
    "\n",
    "cdm = cosmic_fluid_const_w(rho_0_cdm_pk(),0)\n",
    "\n",
    "fluids=[gamma,nu,baryons,cdm]\n",
    "\n",
    "LCDM=universe(fluids,h_pk)"
   ]
  },
  {
   "cell_type": "code",
   "execution_count": 8,
   "metadata": {},
   "outputs": [
    {
     "data": {
      "text/plain": [
       "True"
      ]
     },
     "execution_count": 8,
     "metadata": {},
     "output_type": "execute_result"
    }
   ],
   "source": [
    "#Test Omega_tot=1\n",
    "Omega_tot=0\n",
    "for fluid in LCDM.fluids:\n",
    "\n",
    "    Omega_tot+=LCDM.Omega(fluid)\n",
    "\n",
    "Omega_tot==1\n"
   ]
  },
  {
   "cell_type": "code",
   "execution_count": 50,
   "metadata": {},
   "outputs": [
    {
     "data": {
      "text/plain": [
       "6.268026419446873e-05"
      ]
     },
     "execution_count": 50,
     "metadata": {},
     "output_type": "execute_result"
    }
   ],
   "source": [
    "#USED IN FISHER\n",
    "rhor3000=gamma.rho(a_of_z(3000))+nu.rho(a_of_z(3000))\n",
    "rhom3000=baryons.rho(a_of_z(3000))+cdm.rho(a_of_z(3000))\n",
    "rhor0=gamma.rho(1)+nu.rho(1)\n",
    "rhom0=baryons.rho(1)+cdm.rho(1)\n",
    "\n",
    "anchors=np.concatenate(([-15],np.arange(-7,-2),[1]))\n",
    "vals = np.array([1,0.9,0.3,0,-0.3,-0.9,1])\n",
    "w_spline_rep=interpolate.splrep(anchors,vals, s=0)\n",
    "dsg_dict={'dsg_log10a_vals':np.concatenate(([-15],np.arange(-4,-1.9,.5),[1])),\n",
    "    'dsg_w_vals':np.array([1,0.9,0.3,0,-0.3,-0.9,1]),\n",
    "    'dsg_alpha' : 0.00001200901405,\n",
    "    'dsg_c_eff2':1/3.,\n",
    "    'nap' : 'y',\n",
    "    'dsg_c_vis2':1/3.}\n",
    "gdm=cosmic_fluid_spline_w((rhor3000+rhom3000)*0.1,w_spline_rep,a_0=1.,a_ref=a_of_z(3000))\n",
    "gdm.rho(1)/(rhor0+rhom0)\n"
   ]
  },
  {
   "cell_type": "code",
   "execution_count": 52,
   "metadata": {},
   "outputs": [
    {
     "data": {
      "text/plain": [
       "6.268026419446873e-05"
      ]
     },
     "execution_count": 52,
     "metadata": {},
     "output_type": "execute_result"
    }
   ],
   "source": [
    "anchors= np.concatenate(([-15],np.arange(-4,-1.9,.5),[1]))\n",
    "vals = np.zeros(len(np.concatenate(([-15],np.arange(-7,-2),[1]))))\n",
    "w_dsg_cdm_spline_rep=interpolate.splrep(anchors,vals, s=0)\n",
    "dsg_dict={'dsg_log10a_vals':np.concatenate(([-15],np.arange(-4,-1.9,.5),[1])),\n",
    "    'dsg_w_vals':np.zeros(len(np.concatenate(([-15],np.arange(-7,-2),[1])))),\n",
    "    'dsg_alpha' : 0.00001200901405,\n",
    "    'dsg_c_eff2':1/3.,\n",
    "    'nap' : 'y',\n",
    "    'dsg_c_vis2':1/3.}\n",
    "gdm=cosmic_fluid_spline_w((rhor3000+rhom3000)*0.1,w_spline_rep,a_0=1.,a_ref=a_of_z(3000))\n",
    "gdm.rho(1)/(rhor0+rhom0)"
   ]
  },
  {
   "cell_type": "code",
   "execution_count": 9,
   "metadata": {},
   "outputs": [],
   "source": [
    "\n",
    "\n",
    "dsg_log10a_posts=np.array([-15,-5,-4.6,-4.2,-3.8,-3.4,-3,1])\n",
    "w_dsg_cdm_anchors=np.full(len(dsg_log10a_posts),0)\n",
    "w_dsg_cdm_spline_rep=interpolate.splrep(dsg_log10a_posts,w_dsg_cdm_anchors, s=0)\n",
    "\n",
    "a_ref=a_of_z(3000)\n",
    "cdm_surpressed=  cosmic_fluid_const_w(rho_0_cdm_pk(Omega_cdm=0.9*Omega_cdm_pk),0)\n",
    "bg=composite_fluid([gamma,nu,baryons,cdm_surpressed])\n",
    "rho_dsg_cdm_ref=0.1*cdm.rho(a_ref)\n",
    "dsg = cosmic_fluid_spline_w(rho_dsg_cdm_ref,w_dsg_cdm_spline_rep,a_ref=a_ref)\n",
    "\n",
    "\n",
    "dsg_cdm_test_uni = universe([gamma,nu,baryons,cdm_surpressed,dsg],)"
   ]
  },
  {
   "cell_type": "code",
   "execution_count": 10,
   "metadata": {},
   "outputs": [
    {
     "data": {
      "text/plain": [
       "True"
      ]
     },
     "execution_count": 10,
     "metadata": {},
     "output_type": "execute_result"
    }
   ],
   "source": [
    "#Test Omega_tot=1\n",
    "tol = 1e-15\n",
    "Omega_tot=0\n",
    "for fluid in dsg_cdm_test_uni.fluids:\n",
    "\n",
    "    Omega_tot+=dsg_cdm_test_uni.Omega(fluid)\n",
    "\n",
    "abs(Omega_tot-1)<tol\n"
   ]
  },
  {
   "cell_type": "code",
   "execution_count": 11,
   "metadata": {},
   "outputs": [],
   "source": [
    "# CLASS\n",
    "\n",
    "from classy import Class"
   ]
  },
  {
   "cell_type": "code",
   "execution_count": 12,
   "metadata": {},
   "outputs": [],
   "source": [
    "# Creates an instance of CLASS\n",
    "cosmo = Class()\n",
    "CLASS_INPUT={}\n",
    "raw_cl={}"
   ]
  },
  {
   "cell_type": "code",
   "execution_count": 21,
   "metadata": {},
   "outputs": [],
   "source": [
    "def arr_to_str(arr):\n",
    "    return ','.join([str(num) for num in arr])"
   ]
  },
  {
   "cell_type": "code",
   "execution_count": 14,
   "metadata": {},
   "outputs": [],
   "source": [
    "cosmo.struct_cleanup()\n",
    "cosmo.empty()\n",
    "cosmo.set_default()\n",
    "cosmo.compute()\n",
    "raw_cl['default']=cosmo.raw_cl()\n",
    "cosmo.struct_cleanup()\n",
    "cosmo.empty()"
   ]
  },
  {
   "cell_type": "code",
   "execution_count": 22,
   "metadata": {},
   "outputs": [],
   "source": [
    "data_sets_non_def=('dsg_cdm_basic','dsg_cdm_nap','dsg_cdm_vis')\n",
    "\n",
    "CLASS_INPUT['dsg_cdm_basic']={}\n",
    "CLASS_INPUT['dsg_cdm_basic']['output']='tCl'\n",
    "CLASS_INPUT['dsg_cdm_basic']['dsg_alpha']=dsg.rho_0/bg.rho_0\n",
    "CLASS_INPUT['dsg_cdm_basic']['dsg_log10a_vals']=arr_to_str(dsg_log10a_posts)\n",
    "CLASS_INPUT['dsg_cdm_basic']['dsg_w_vals']=arr_to_str(w_dsg_cdm_anchors)\n",
    "\n",
    "CLASS_INPUT['dsg_cdm_nap']=CLASS_INPUT['dsg_cdm_basic']\n",
    "CLASS_INPUT['dsg_cdm_nap']['nap']='y'\n",
    "CLASS_INPUT['dsg_cdm_nap']['dsg_c_eff2']=0\n",
    "\n",
    "CLASS_INPUT['dsg_cdm_vis']=CLASS_INPUT['dsg_cdm_nap']\n",
    "CLASS_INPUT['dsg_cdm_vis']['dsg_c_vis2']=0"
   ]
  },
  {
   "cell_type": "code",
   "execution_count": 23,
   "metadata": {},
   "outputs": [],
   "source": [
    "cosmo.struct_cleanup()\n",
    "cosmo.empty()\n",
    "\n",
    "for data_set in data_sets_non_def:\n",
    "    cosmo.set(CLASS_INPUT[data_set])\n",
    "    cosmo._fillparfile()\n",
    "    cosmo.compute()\n",
    "    raw_cl[data_set]=cosmo.raw_cl()\n",
    "    cosmo.struct_cleanup()\n",
    "    cosmo.empty()"
   ]
  },
  {
   "cell_type": "code",
   "execution_count": 24,
   "metadata": {},
   "outputs": [],
   "source": [
    "k_vals=raw_cl['default']['ell'][2:]\n",
    "cl={}\n",
    "cl['default']=raw_cl['default']['tt'][2:]\n",
    "for name in data_sets_non_def:\n",
    "    cl[name]=raw_cl[name]['tt'][2:]"
   ]
  },
  {
   "cell_type": "code",
   "execution_count": 25,
   "metadata": {},
   "outputs": [],
   "source": [
    "cl_ratio={}\n",
    "for name in data_sets_non_def:\n",
    "    cl_ratio[name]=cl[name]/cl['default']-1"
   ]
  },
  {
   "cell_type": "code",
   "execution_count": 26,
   "metadata": {},
   "outputs": [
    {
     "data": {
      "text/plain": [
       "<matplotlib.legend.Legend at 0x7f11096c5890>"
      ]
     },
     "execution_count": 26,
     "metadata": {},
     "output_type": "execute_result"
    },
    {
     "data": {
      "image/png": "[encoded data removed]",
      "text/plain": [
       "<Figure size 432x288 with 1 Axes>"
      ]
     },
     "metadata": {
      "needs_background": "light"
     },
     "output_type": "display_data"
    }
   ],
   "source": [
    "plt.figure(1)\n",
    "for name in data_sets_non_def:\n",
    "    plt.plot(k_vals,cl_ratio[name])\n",
    "\n",
    "plt.legend(data_sets_non_def)"
   ]
  },
  {
   "cell_type": "code",
   "execution_count": 27,
   "metadata": {},
   "outputs": [
    {
     "data": {
      "text/plain": [
       "[<matplotlib.lines.Line2D at 0x7f11090361d0>]"
      ]
     },
     "execution_count": 27,
     "metadata": {},
     "output_type": "execute_result"
    },
    {
     "data": {
      "image/png": "[encoded data removed]",
      "text/plain": [
       "<Figure size 432x288 with 1 Axes>"
      ]
     },
     "metadata": {
      "needs_background": "light"
     },
     "output_type": "display_data"
    }
   ],
   "source": [
    "plt.figure(2)\n",
    "plt.plot(k_vals,cl_ratio['dsg_cdm_basic'])\n"
   ]
  },
  {
   "cell_type": "code",
   "execution_count": null,
   "metadata": {},
   "outputs": [],
   "source": []
  },
  {
   "cell_type": "code",
   "execution_count": null,
   "metadata": {
    "scrolled": true
   },
   "outputs": [],
   "source": []
  },
  {
   "cell_type": "code",
   "execution_count": null,
   "metadata": {},
   "outputs": [],
   "source": []
  },
  {
   "cell_type": "code",
   "execution_count": null,
   "metadata": {},
   "outputs": [],
   "source": []
  }
 ],
 "metadata": {
  "kernelspec": {
   "display_name": "Python 2",
   "language": "python",
   "name": "python2"
  },
  "language_info": {
   "codemirror_mode": {
    "name": "ipython",
    "version": 2
   },
   "file_extension": ".py",
   "mimetype": "text/x-python",
   "name": "python",
   "nbconvert_exporter": "python",
   "pygments_lexer": "ipython2",
   "version": "2.7.18"
  }
 },
 "nbformat": 4,
 "nbformat_minor": 2
}
