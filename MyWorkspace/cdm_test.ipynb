{
 "cells": [
  {
   "cell_type": "code",
   "execution_count": 1,
   "metadata": {},
   "outputs": [],
   "source": [
    "from __future__ import unicode_literals, print_function, division\n",
    "\n",
    "# System imports\n",
    "import os\n",
    "import sys\n",
    "import argparse\n",
    "\n",
    "# Numerics\n",
    "import numpy as np\n",
    "from numpy import ma\n",
    "from scipy.interpolate import InterpolatedUnivariateSpline\n",
    "from math import floor\n",
    "\n",
    "# Plotting\n",
    "import matplotlib.pyplot as plt\n",
    "from matplotlib import scale as mscale\n",
    "from matplotlib.transforms import Transform\n",
    "from matplotlib.ticker import FixedLocator\n",
    "\n",
    "# CLASS\n",
    "\n",
    "from classy import Class"
   ]
  },
  {
   "cell_type": "code",
   "execution_count": 2,
   "metadata": {},
   "outputs": [],
   "source": [
    "# Creates an instance of CLASS\n",
    "cosmo = Class()\n",
    "CLASS_INPUT={}\n",
    "raw_cl={}"
   ]
  },
  {
   "cell_type": "code",
   "execution_count": 3,
   "metadata": {},
   "outputs": [],
   "source": [
    "data_sets=('default','extra_cdm','dsg_cdm')\n",
    "\n",
    "cosmo.set_default()\n",
    "cosmo.compute()\n",
    "raw_cl['default']=cosmo.raw_cl()\n",
    "Omega0_cdm_def=cosmo.Omega0_cdm()\n",
    "cosmo.struct_cleanup()\n",
    "\n",
    "CLASS_INPUT['extra_cdm']={\"Omega_cdm\":1.1*Omega0_cdm_def,'output':'tCl'};\n",
    "cosmo.set(CLASS_INPUT['extra_cdm']);\n",
    "cosmo.compute()\n",
    "raw_cl['extra_cdm']=cosmo.raw_cl()\n",
    "cosmo.struct_cleanup()\n",
    "\n",
    "CLASS_INPUT['dsg_cdm']={'output':'tCl',\n",
    "                        'dsg_alpha':0.00001200901405,\n",
    "                        'dsg_w_vals':'0.333333333333333,0.333333333333333,0.333333333333333,0.333333333333333,0.333333333333333,0.333333333333333,0.333333333333333,0.333333333333333,0.333333333333333,0.333333333333333,0.333333333333333,0.333333333333333,0.333333333333333,0.333333333333333,0.333333333333333,0.333333333333333,0.333333333333333,0.333333333333333,0.333333333333333,0.333333333333333,0.333333333333333,0.333333333333333,0.333333333333333,0.333333333333333,0.333333333333333,0.333333333333333,0.333333333333333,0.333333333333333,0.333333333333333,0.333333333333333,0.333333333333333,0.333333333333333,0.333333333333333,0.333333333333333,0.333333333333333,0.333333333333333,0.333333333333333,0.333333333333333,0.333333333333333,0.333333333333333,0.333333333333333,0.333333333333333,0.333333333333333,0.333333333333333,0.333333333333333,0.333333333333333,0.333333333333333,0.333333333333333,0.333333333333333,0.333333333333333',\n",
    "                        \"dsg_log10a_vals\":\"-15.,-14.673,-14.347,-14.02,-13.694,-13.367,-13.041,-12.714,-12.388,-12.061,-11.735,-11.408,-11.082,-10.755,-10.429,-10.102,-9.7755,-9.449,-9.1224,-8.7959,-8.4694,-8.1429,-7.8163,-7.4898,-7.1633,-6.8367,-6.5102,-6.1837,-5.8571,-5.5306,-5.2041,-4.8776,-4.551,-4.2245,-3.898,-3.5714,-3.2449,-2.9184,-2.5918,-2.2653,-1.9388,-1.6122,-1.2857,-0.95918,-0.63265,-0.30612,0.020408,0.34694,0.67347,1.\"}\n",
    "cosmo.set(CLASS_INPUT['dsg_cdm'])\n",
    "cosmo._fillparfile()\n",
    "cosmo.compute()\n",
    "raw_cl['dsg_cdm']=cosmo.raw_cl()\n",
    "cosmo.struct_cleanup()"
   ]
  },
  {
   "cell_type": "code",
   "execution_count": null,
   "metadata": {},
   "outputs": [],
   "source": []
  },
  {
   "cell_type": "code",
   "execution_count": 4,
   "metadata": {},
   "outputs": [],
   "source": [
    "k_vals=raw_cl['default']['ell'][2:]\n",
    "cl={}\n",
    "for name in data_sets:\n",
    "    cl[name]=raw_cl[name]['tt'][2:]\n",
    "    "
   ]
  },
  {
   "cell_type": "code",
   "execution_count": null,
   "metadata": {},
   "outputs": [],
   "source": []
  },
  {
   "cell_type": "code",
   "execution_count": 5,
   "metadata": {},
   "outputs": [],
   "source": [
    "cl_ratio={}\n",
    "for name in data_sets:\n",
    "    cl_ratio[name]=cl[name]/cl['default']-1"
   ]
  },
  {
   "cell_type": "code",
   "execution_count": null,
   "metadata": {},
   "outputs": [],
   "source": []
  },
  {
   "cell_type": "code",
   "execution_count": 6,
   "metadata": {},
   "outputs": [
    {
     "ename": "NameError",
     "evalue": "name 'cl_ratio_class' is not defined",
     "output_type": "error",
     "traceback": [
      "\u001b[0;31m---------------------------------------------------------------------------\u001b[0m",
      "\u001b[0;31mNameError\u001b[0m                                 Traceback (most recent call last)",
      "\u001b[0;32m<ipython-input-6-1453d99a2e4a>\u001b[0m in \u001b[0;36m<module>\u001b[0;34m()\u001b[0m\n\u001b[0;32m----> 1\u001b[0;31m \u001b[0mplt\u001b[0m\u001b[0;34m.\u001b[0m\u001b[0mplot\u001b[0m\u001b[0;34m(\u001b[0m\u001b[0mk_vals\u001b[0m\u001b[0;34m,\u001b[0m\u001b[0mcl_ratio_class\u001b[0m\u001b[0;34m)\u001b[0m\u001b[0;34m\u001b[0m\u001b[0m\n\u001b[0m\u001b[1;32m      2\u001b[0m \u001b[0mplt\u001b[0m\u001b[0;34m.\u001b[0m\u001b[0mlegend\u001b[0m\u001b[0;34m(\u001b[0m\u001b[0;34m(\u001b[0m\u001b[0;34m\"class to Hu.\"\u001b[0m\u001b[0;34m)\u001b[0m\u001b[0;34m)\u001b[0m\u001b[0;34m\u001b[0m\u001b[0m\n",
      "\u001b[0;31mNameError\u001b[0m: name 'cl_ratio_class' is not defined"
     ]
    }
   ],
   "source": [
    "plt.plot(k_vals,cl_ratio_class)\n",
    "plt.legend((\"class to Hu.\"))"
   ]
  },
  {
   "cell_type": "code",
   "execution_count": null,
   "metadata": {},
   "outputs": [],
   "source": [
    "plt.figure(1,figsize=(10,6))\n",
    "for name in data_sets:\n",
    "    plt.plot(k_vals,cl_ratio[name])\n",
    "\n",
    "plt.legend((\"1.1 N_ur\",\"w/o NAP or vis\",\"with NAP\",\"with NAP and vis\"))\n",
    "plt.xlabel('l')\n",
    "plt.ylabel('Relative change in C_l')\n",
    "plt.title('Relative change of C_l With Extra ')\n",
    "    \n"
   ]
  },
  {
   "cell_type": "code",
   "execution_count": 7,
   "metadata": {},
   "outputs": [
    {
     "data": {
      "text/plain": [
       "(u'default', u'extra_cdm', u'dsg_cdm')"
      ]
     },
     "execution_count": 7,
     "metadata": {},
     "output_type": "execute_result"
    }
   ],
   "source": [
    "data_sets"
   ]
  },
  {
   "cell_type": "code",
   "execution_count": null,
   "metadata": {},
   "outputs": [],
   "source": []
  },
  {
   "cell_type": "code",
   "execution_count": 38,
   "metadata": {},
   "outputs": [
    {
     "data": {
      "text/plain": [
       "array([-0.04122442, -0.03293181, -0.02651327, ..., -0.0262797 ,\n",
       "       -0.02623301, -0.02618396])"
      ]
     },
     "execution_count": 38,
     "metadata": {},
     "output_type": "execute_result"
    }
   ],
   "source": []
  },
  {
   "cell_type": "code",
   "execution_count": null,
   "metadata": {},
   "outputs": [],
   "source": []
  }
 ],
 "metadata": {
  "kernelspec": {
   "display_name": "Python 2",
   "language": "python",
   "name": "python2"
  },
  "language_info": {
   "codemirror_mode": {
    "name": "ipython",
    "version": 2
   },
   "file_extension": ".py",
   "mimetype": "text/x-python",
   "name": "python",
   "nbconvert_exporter": "python",
   "pygments_lexer": "ipython2",
   "version": "2.7.18"
  }
 },
 "nbformat": 4,
 "nbformat_minor": 2
}
