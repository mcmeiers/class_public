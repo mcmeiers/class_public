{
 "cells": [
  {
   "cell_type": "code",
   "execution_count": 1,
   "metadata": {},
   "outputs": [],
   "source": [
    "import numpy as np\n",
    "\n",
    "\n",
    "# Plotting\n",
    "import matplotlib.pyplot as plt\n",
    "from matplotlib import scale as mscale\n",
    "from matplotlib.transforms import Transform\n",
    "from matplotlib.ticker import FixedLocator\n",
    "\n",
    "import seaborn as sns\n",
    "\n",
    "# CLASS\n",
    "\n",
    "from classy import Class"
   ]
  },
  {
   "cell_type": "code",
   "execution_count": 2,
   "metadata": {},
   "outputs": [],
   "source": [
    "# Creates an instance of CLASS\n",
    "cosmo = Class()\n",
    "CLASS_INPUT={}\n",
    "raw_cl={}"
   ]
  },
  {
   "cell_type": "code",
   "execution_count": 3,
   "metadata": {},
   "outputs": [],
   "source": [
    "# Prepare Inputs\n",
    "CLASS_INPUT['Default']={}\n",
    "CLASS_INPUT['Default']['output']='tCl,pCl'"
   ]
  },
  {
   "cell_type": "code",
   "execution_count": 4,
   "metadata": {},
   "outputs": [],
   "source": [
    "cosmo.struct_cleanup()\n",
    "cosmo.empty()\n",
    "cosmo.set(CLASS_INPUT['Default'])\n",
    "cosmo.compute()\n",
    "raw_cl['Default']=cosmo.raw_cl()\n",
    "cosmo.struct_cleanup()\n",
    "cosmo.empty()"
   ]
  },
  {
   "cell_type": "code",
   "execution_count": 5,
   "metadata": {},
   "outputs": [
    {
     "data": {
      "text/plain": [
       "{'tt': array([0.00000000e+00, 0.00000000e+00, 1.56601911e-10, ...,\n",
       "        9.46211901e-18, 9.41637632e-18, 9.37090231e-18]),\n",
       " 'ee': array([0.00000000e+00, 0.00000000e+00, 7.65399293e-15, ...,\n",
       "        3.66635324e-19, 3.67907705e-19, 3.69187390e-19]),\n",
       " 'te': array([ 0.00000000e+00,  0.00000000e+00,  5.04243448e-13, ...,\n",
       "        -2.21451894e-19, -2.23353523e-19, -2.25412307e-19]),\n",
       " 'bb': array([0., 0., 0., ..., 0., 0., 0.]),\n",
       " 'ell': array([   0,    1,    2, ..., 2498, 2499, 2500])}"
      ]
     },
     "execution_count": 5,
     "metadata": {},
     "output_type": "execute_result"
    }
   ],
   "source": [
    "raw_cl['Default']"
   ]
  },
  {
   "cell_type": "code",
   "execution_count": null,
   "metadata": {},
   "outputs": [],
   "source": [
    "\n",
    "\n",
    "wtinv=(11*10**-8)**2 # K^2 likely need to be changed, but can't find definitive source\n",
    "weinv=(25*10**-8)**2 # K^2 likely need to be changed, but can't find definitive source\n",
    "B_l_inv=np.exp((np.arange(2,2501)*0.16*np.pi/180)**2)  #likely need to be changed, but can't find definitive source\n",
    "err_t_l=wtinv*B_l_inv;\n",
    "err_e_l=weinv*B_l_inv;\n",
    "fsky=0.8;\n",
    "cov_names_to_idx={'t':0,'e':1,'c':2}\n",
    "Normalizing=1/(2*raw_cl['Default']['ell'][2:]+1)/fsky;\n",
    "num_ell=len(raw_cl['Default']['ell'])-2\n",
    "cov_l={};\n",
    "cov_l['tt']=2*Normalizing*(raw_cl['Default']['tt'][2:]+err_t_l)**2\n",
    "cov_l['ee']=2*Normalizing*(raw_cl['Default']['ee'][2:]+err_e_l)**2\n",
    "cov_l['cc']=Normalizing*(raw_cl['Default']['te'][2:]**2+(raw_cl['Default']['tt'][2:]+err_t_l)*(raw_cl['Default']['ee'][2:]+err_e_l))\n",
    "cov_l['te']=cov_l['et']=2*Normalizing*(raw_cl['Default']['te'][2:])**2\n",
    "cov_l['tc']=cov_l['ct']=2*Normalizing*raw_cl['Default']['te'][2:]*(raw_cl['Default']['tt'][2:]+err_t_l)\n",
    "cov_l['ec']=cov_l['ce']=2*Normalizing*raw_cl['Default']['te'][2:]*(raw_cl['Default']['ee'][2:]+err_e_l)\n",
    "\n",
    "Cov_mats_l=np.empty((num_ell,3,3))\n",
    "for row_name,row_idx in cov_names_to_idx.items():\n",
    "    for col_name,col_idx in cov_names_to_idx.items():\n",
    "        Cov_mats_l[:,row_idx,col_idx]=cov_l[col_name+row_name]\n",
    "        \n",
    "Fisher_cl=np.linalg.inv(Cov_mats_l)"
   ]
  },
  {
   "cell_type": "code",
   "execution_count": null,
   "metadata": {},
   "outputs": [],
   "source": [
    "dsg_dict={'dsg_log10a_vals':np.concatenate(([-15],np.arange(-4,-1.9,.5),[1])),\n",
    "    'dsg_w_vals':np.array([-0.99,-0.9,-0.3,0,0.3,0.9,0.99]),\n",
    "    'dsg_alpha' : 0.0000006268026419446873,\n",
    "    'dsg_c_eff2':1/3.,\n",
    "    'nap' : 'y',\n",
    "    'dsg_c_vis2':1/3.}\n",
    "dsg_test_params=classy_params(**{**dsg_dict,**{'h':0.67556}})\n"
   ]
  }
 ],
 "metadata": {
  "kernelspec": {
   "display_name": "Python 3",
   "language": "python",
   "name": "python3"
  },
  "language_info": {
   "codemirror_mode": {
    "name": "ipython",
    "version": 3
   },
   "file_extension": ".py",
   "mimetype": "text/x-python",
   "name": "python",
   "nbconvert_exporter": "python",
   "pygments_lexer": "ipython3",
   "version": "3.7.5"
  }
 },
 "nbformat": 4,
 "nbformat_minor": 2
}
