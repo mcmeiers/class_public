{
 "cells": [
  {
   "cell_type": "code",
   "execution_count": 1,
   "metadata": {},
   "outputs": [],
   "source": [
    "import copy\n",
    "\n",
    "import numpy as np\n",
    "\n",
    "import scipy.integrate as integrate\n",
    "from scipy import constants\n",
    "from scipy import interpolate\n",
    "\n",
    "# Plotting\n",
    "import matplotlib.pyplot as plt\n",
    "from matplotlib import scale as mscale\n",
    "from matplotlib.transforms import Transform\n",
    "from matplotlib.ticker import FixedLocator\n",
    "\n",
    "import seaborn as sns\n",
    "\n",
    "# CLASS\n",
    "\n",
    "from classy import Class"
   ]
  },
  {
   "cell_type": "code",
   "execution_count": 2,
   "metadata": {},
   "outputs": [],
   "source": [
    "_GN_ = constants.gravitational_constant # Meter^3 Kilogram^-1 Second^-2 \n",
    "_c_light_ = constants.c # Meter Second^-1\n",
    "_eV_ = constants.eV; # Meter^2 Kilogram Second^-2\n",
    "_kB_ = constants.Boltzmann # Joule Kelvin^-1\n",
    "_hP_ = constants.Planck # Joule Second \n",
    "_aB_ = 8*np.pi**5*_kB_**4/(15*_hP_**3*_c_light_**3) #Joule Kelvin^-4 Meter-3\n",
    "\n",
    "#Conversions\n",
    "_Meter_per_MPc_ = constants.mega*constants.parsec\n",
    "H_0_std=100 * constants.kilo/_Meter_per_MPc_\n",
    "\n",
    "#Class Default Values\n",
    "Tcmb_pk = 2.7255 # Kelvin \n",
    "Nur_pk = 3.046;\n",
    "h_pk = 0.67556;\n",
    "omega_b_pk = 0.022032;\n",
    "omega_cdm_pk = 0.12038;\n",
    "\n",
    "Omega_b_pk = omega_b_pk/(h_pk**2)\n",
    "Omega_cdm_pk = omega_cdm_pk/(h_pk**2)\n",
    "\n",
    "H_0_pk= h_pk* H_0_std\n",
    "rho_crit_pk= 3* H_0_pk**2 /(8*np.pi*_GN_)\n",
    "\n",
    "\n",
    "def a_of_z(z,a_0=1.):\n",
    "    return a_0/(1.+z)"
   ]
  },
  {
   "cell_type": "code",
   "execution_count": 3,
   "metadata": {},
   "outputs": [],
   "source": [
    "class cosmic_fluid(object):\n",
    "    \"\"\"A fluid model for cosmic material\n",
    "    \n",
    "        naught values corrispond to today\n",
    "        \n",
    "        \"\"\"\n",
    "    def p(self,a):\n",
    "        return self.rho(a) * self.w(a)\n",
    " \n",
    "        \n",
    "class cosmic_fluid_const_w(cosmic_fluid):\n",
    "    \"\"\"A cosmic fluid with constant w(a)\"\"\"\n",
    "    \n",
    "    def __init__(self,rho_ref,w,a_0=1.,a_ref=1.):\n",
    "        self.w = lambda a=a_0: w\n",
    "        self.a_0 = a_0\n",
    "        self.a_ref = a_ref\n",
    "        self.rho_0 = rho_ref * (a_ref/a_0)**(3*(1+w))\n",
    "        \n",
    "        \n",
    "    def rho(self,a):\n",
    "        return self.rho_0*(self.a_0/a)**(3*(1+ self.w()))\n",
    "    \n",
    "\n",
    "    \n",
    "class cosmic_fluid_spline_w(cosmic_fluid):\n",
    "    \"\"\"A cosmic fluid with a given spline made with numpy.interpolate.splrep for w(a)\"\"\"\n",
    "    \n",
    "    def __init__(self,rho_ref,spline_log10a_vals,spline_w_vals,a_0=1.,a_ref=1.):\n",
    "        \n",
    "        #Store spline knots and create spline representation\n",
    "        self.spline_log10a_vals=spline_log10a_vals\n",
    "        self.spline_w_vals=spline_w_vals\n",
    "        self.w_spline_rep=interpolate.splrep(spline_log10a_vals,spline_w_vals, s=0)\n",
    "        \n",
    "        self.w = lambda a:interpolate.splev(np.log10(a), self.w_spline_rep, der=0)\n",
    "        self.a_0 = a_0\n",
    "        self.a_ref= a_ref\n",
    "        self.rho_0 = rho_ref * (a_ref/a_0)**3* 10**(-3*interpolate.splint(np.log10(a_ref),np.log10(a_0),self.w_spline_rep))\n",
    "        \n",
    "    def rho(self,a):\n",
    "        return self.rho_0*(self.a_0/a)**3 * 10**(-3*interpolate.splint(np.log10(self.a_0),np.log10(a),self.w_spline_rep))\n",
    "    "
   ]
  },
  {
   "cell_type": "code",
   "execution_count": 4,
   "metadata": {},
   "outputs": [
    {
     "data": {
      "text/plain": [
       "[True, True, True]"
      ]
     },
     "execution_count": 4,
     "metadata": {},
     "output_type": "execute_result"
    }
   ],
   "source": [
    "#A test of spline vs constant w\n",
    "\n",
    "# Standard rho_0 for photos\n",
    "def rho_0_gamma(T=Tcmb_pk):\n",
    "    return _aB_ / _c_light_**2 * T**4\n",
    "\n",
    "#Spline knots\n",
    "log10a_vals= np.arange(-14.5,0.5,0.1)\n",
    "w_vals=np.array([1/3]*len(log10a_vals))\n",
    "\n",
    "\n",
    "#Constant w model\n",
    "gamma= cosmic_fluid_const_w(rho_0_gamma(),1/3)\n",
    "gamma_spl= cosmic_fluid_spline_w(rho_0_gamma(),log10a_vals,w_vals)\n",
    "\n",
    "#Ensure rho,p,w have evolved correctly\n",
    "tol=10**-15\n",
    "\n",
    "w_test=10**-2\n",
    "\n",
    "[abs(gamma.rho(w_test)-gamma_spl.rho(w_test))<tol,\n",
    " abs(gamma.p(w_test)-gamma_spl.p(w_test))<tol,\n",
    " abs(gamma.w(w_test)-gamma_spl.w(w_test))<tol]"
   ]
  },
  {
   "cell_type": "code",
   "execution_count": 5,
   "metadata": {},
   "outputs": [],
   "source": [
    "class composite_fluid(object):\n",
    "    \"\"\" A collection of cosmic fluids with methods to have sum total of properties\"\"\"\n",
    "        \n",
    "    def __init__(self,fluids,a_0=1):\n",
    "        self.fluids = copy.copy(fluids)\n",
    "        self.rho_0  = 0\n",
    "        self.a_0    = a_0\n",
    "\n",
    "        for fluid in fluids:\n",
    "            self.rho_0  += fluid.rho_0\n",
    "            assert self.a_0 == fluid.a_0,\"Uncommon scale factor for today\"\n",
    "\n",
    "    #Energy Density \n",
    "    def rho_tot(self,a):\n",
    "        rho_tot=0\n",
    "        for fluid in self.fluids:\n",
    "            rho_tot += fluid.rho(a)\n",
    "        return rho_tot\n",
    "    \n",
    "    #Pressure \n",
    "    def p_tot(self,a):\n",
    "        p_tot=0\n",
    "        for fluid in self.fluids:\n",
    "            p_tot += fluid.p(a)\n",
    "        return p_tot\n",
    "    \n",
    "    #State parameter (Ineffient since p will also call rho, but probably doesn't matter)\n",
    "    def w(self,a):\n",
    "        return self.p_tot(a)/self.rho_tot(a) \n",
    "    \n",
    "    #What fraction does a fluid contribute to the total rho\n",
    "    def rho_fluid_frac(self,fluid,a):\n",
    "        return fluid.rho(a)/self.rho(a)\n",
    "    \n",
    "    #What fraction does a fluid contribute to the total pressure\n",
    "    def p_fluid_frac(self,fluid,a):\n",
    "        return fluid.p(a)/self.p (a)\n",
    "    \n",
    "\n",
    "class universe(composite_fluid):\n",
    "    \"\"\" A model of the univsere as a collection of cosmic fluids\n",
    "  \n",
    "  \n",
    "                Several optional arguments\n",
    "        \n",
    "                    h - If provided a cosmological constant is added to satisfy H_0\n",
    "                    k - Non-functioning for curvrature \n",
    "                    a_0 - a common scale factor value for today amongst the fluids\n",
    "                \n",
    "                To Consider:\n",
    "                    Safty Checks on if fluid is in set of fluids\"\"\"\n",
    "        \n",
    "        \n",
    "    def __init__(self,fluids,h=None,k=0,a_0=1):\n",
    "        assert k==0, \"non-flat conditions have not been coded\"        \n",
    "        self.fluids = copy.copy(fluids)\n",
    "        \n",
    "        self.rho_0  = 0\n",
    "        self.a_0    = a_0\n",
    "        for fluid in fluids:\n",
    "            self.rho_0  += fluid.rho_0\n",
    "            assert self.a_0 == fluid.a_0,\"Uncommon scale factor for today\"\n",
    "\n",
    "        if h==None:\n",
    "            self.rho_crit = self.rho_0\n",
    "            self.H_0 =((8*np.pi*_GN_)*self.rho_crit/3)**0.5\n",
    "            self.h = self.H_0/H_0_std\n",
    "        else:\n",
    "            self.h=h\n",
    "            self.H_0= h * H_0_std\n",
    "            self.rho_crit= 3*(h * H_0_std)**2/(8*np.pi*_GN_)\n",
    "            if(self.rho_crit- self.rho_0!=0):\n",
    "                self.dark_energy = cosmic_fluid_const_w(self.rho_crit- self.rho_0, -1,a_0)\n",
    "                self.fluids= self.fluids+[self.dark_energy]\n",
    "            \n",
    " \n",
    "    \n",
    "    def Omega(self,fluid):\n",
    "        return fluid.rho_0/self.rho_crit\n",
    "        \n",
    "    def omega(self,fluid):\n",
    "        return fluid.rho_0/self.rho_crit * self.h ** 2 \n",
    "    "
   ]
  },
  {
   "cell_type": "code",
   "execution_count": 6,
   "metadata": {},
   "outputs": [],
   "source": [
    "def rho_0_gamma_pk(T=Tcmb_pk):\n",
    "    return _aB_ / _c_light_**2 * T**4\n",
    "\n",
    "gamma= cosmic_fluid_const_w(rho_0_gamma_pk(),1/3)\n",
    "\n",
    "def rho_0_nu_pk(T=Tcmb_pk,Nur=Nur_pk):\n",
    "    return   rho_0_gamma_pk(T)  *7./8.*(4./11.)**(4./3.)*Nur\n",
    "\n",
    "nu = cosmic_fluid_const_w(rho_0_nu_pk(),1/3)\n",
    "\n",
    "\n",
    "def rho_0_b_pk(Omega_b=Omega_b_pk,rho_crit=rho_crit_pk):\n",
    "    return Omega_b* rho_crit\n",
    "\n",
    "baryons = cosmic_fluid_const_w(rho_0_b_pk(),0)\n",
    "\n",
    "def rho_0_cdm_pk(Omega_cdm=Omega_cdm_pk,rho_crit=rho_crit_pk):\n",
    "    return Omega_cdm* rho_crit\n",
    "\n",
    "cdm = cosmic_fluid_const_w(rho_0_cdm_pk(),0)\n",
    "\n",
    "fluids=[gamma,nu,baryons,cdm]\n",
    "\n",
    "LCDM=universe(fluids,h_pk) "
   ]
  },
  {
   "cell_type": "code",
   "execution_count": 7,
   "metadata": {},
   "outputs": [
    {
     "data": {
      "text/plain": [
       "0.08450456829531756"
      ]
     },
     "execution_count": 7,
     "metadata": {},
     "output_type": "execute_result"
    }
   ],
   "source": [
    "rho_0_cdm_pk(Omega_cdm=Omega_cdm_pk*0.1)/(rho_0_gamma_pk()+rho_0_nu_pk()+rho_0_b_pk()+rho_0_cdm_pk())"
   ]
  },
  {
   "cell_type": "code",
   "execution_count": 8,
   "metadata": {},
   "outputs": [
    {
     "data": {
      "text/plain": [
       "1.200899486342582e-05"
      ]
     },
     "execution_count": 8,
     "metadata": {},
     "output_type": "execute_result"
    }
   ],
   "source": [
    "rho_0_nu_pk(Nur=Nur_pk*0.1)/(rho_0_gamma_pk()+rho_0_nu_pk()+rho_0_b_pk()+rho_0_cdm_pk())"
   ]
  },
  {
   "cell_type": "code",
   "execution_count": 9,
   "metadata": {},
   "outputs": [
    {
     "data": {
      "text/plain": [
       "0.09230474054683951"
      ]
     },
     "execution_count": 9,
     "metadata": {},
     "output_type": "execute_result"
    }
   ],
   "source": [
    "rho_0_cdm_pk(Omega_cdm=Omega_cdm_pk*0.1)/(rho_0_gamma_pk()+rho_0_nu_pk()+rho_0_b_pk()+rho_0_cdm_pk(Omega_cdm=Omega_cdm_pk*0.9))"
   ]
  },
  {
   "cell_type": "code",
   "execution_count": 10,
   "metadata": {},
   "outputs": [
    {
     "data": {
      "text/plain": [
       "True"
      ]
     },
     "execution_count": 10,
     "metadata": {},
     "output_type": "execute_result"
    }
   ],
   "source": [
    "#Test Omega_tot=1\n",
    "Omega_tot=0\n",
    "for fluid in LCDM.fluids:\n",
    "\n",
    "    Omega_tot+=LCDM.Omega(fluid)\n",
    "\n",
    "Omega_tot==1"
   ]
  },
  {
   "cell_type": "code",
   "execution_count": 11,
   "metadata": {},
   "outputs": [],
   "source": [
    "class classy_params:\n",
    "    \"\"\"A class to contain classy parameters, it stores both a numeric form for arithmetic and a copy with the format classy will take.\"\"\"\n",
    "    \n",
    "    def to_classy_dict(self,**kwargs):\n",
    "        \"\"\"Converts from a dictionary of various types to ones that classy can use.\"\"\"\n",
    "        classy_dict={}\n",
    "        for key,val in kwargs.items():\n",
    "            if isinstance(val, (list, tuple, np.ndarray)):\n",
    "                classy_dict[key]=(','.join([str(num) for num in val]))\n",
    "            else: \n",
    "                classy_dict[key]=val\n",
    "        return classy_dict\n",
    "                \n",
    "    \n",
    "    def __init__(self,**kwargs):\n",
    "        self.raw_params=kwargs\n",
    "        self.classy_dict=self.to_classy_dict(**kwargs)\n",
    "\n",
    "    def update_param(self,key,new_val):\n",
    "        \"\"\"Update the stored value for the key parameter in both numeric and classy form \"\"\"\n",
    "        self.raw_params[key]=new_val\n",
    "        if isinstance(new_val, (list, tuple, np.ndarray)):\n",
    "            self.classy_dict[key]=(','.join([str(num) for num in new_val]))\n",
    "        else: \n",
    "            self.classy_dict[key]=new_val"
   ]
  },
  {
   "cell_type": "code",
   "execution_count": 12,
   "metadata": {},
   "outputs": [],
   "source": [
    "def get_raw_cl(**classy_parm_dict):\n",
    "    \"\"\" Returns a dictionary with the raw_cl values,for tt,te,ee for l values 2-2500 \"\"\"\n",
    "    cosmo = Class()\n",
    "    cosmo.set({**{'output': 'tCl,pCl'},**classy_parm_dict})\n",
    "    cosmo.compute()\n",
    "    return {'tt':cosmo.raw_cl()['tt'][2:],'ee':cosmo.raw_cl()['ee'][2:],'te':cosmo.raw_cl()['te'][2:]}\n",
    "\n",
    "def fisher_cl(**classy_parm_dict):\n",
    "\n",
    "    raw_cl=get_raw_cl(**classy_parm_dict)\n",
    "    \n",
    "    wtinv=(11*10**-8)**2 # K^2 likely need to be changed, but can't find definitive source\n",
    "    weinv=(25*10**-8)**2 # K^2 likely need to be changed, but can't find definitive source\n",
    "    B_l_inv=np.exp((np.arange(2,2501)*0.16*np.pi/180)**2)  #likely need to be changed, but can't find definitive source\n",
    "    err_t_l=wtinv*B_l_inv;\n",
    "    err_e_l=weinv*B_l_inv;\n",
    "    fsky=0.8;\n",
    "    cov_names_to_idx={'t':0,'e':1,'c':2}\n",
    "    Normalizing=1/(2*np.arange(2,2501)+1)/fsky;\n",
    "    num_ell=2499\n",
    "    cov_l={};\n",
    "    cov_l['tt']=2*Normalizing*(raw_cl['tt']+err_t_l)**2\n",
    "    cov_l['ee']=2*Normalizing*(raw_cl['ee']+err_e_l)**2\n",
    "    cov_l['cc']=Normalizing*(raw_cl['te']**2+(raw_cl['tt']+err_t_l)*(raw_cl['ee']+err_e_l))\n",
    "    cov_l['te']=cov_l['et']=2*Normalizing*(raw_cl['te'])**2\n",
    "    cov_l['tc']=cov_l['ct']=2*Normalizing*raw_cl['te']*(raw_cl['tt']+err_t_l)\n",
    "    cov_l['ec']=cov_l['ce']=2*Normalizing*raw_cl['te']*(raw_cl['ee']+err_e_l)\n",
    "\n",
    "    Cov_mats_l=np.empty((num_ell,3,3))\n",
    "    for row_name,row_idx in cov_names_to_idx.items():\n",
    "        for col_name,col_idx in cov_names_to_idx.items():\n",
    "            Cov_mats_l[:,row_idx,col_idx]=cov_l[col_name+row_name]\n",
    "    \n",
    "    return Cov_mats_l\n",
    "    "
   ]
  },
  {
   "cell_type": "code",
   "execution_count": 13,
   "metadata": {},
   "outputs": [],
   "source": [
    "def d_raw_cl_by_dparm(input_params,dparam_key,dparam_step):\n",
    "    \"\"\" Returns a dictionary of vectors of the form dict[key]= draw_cl[key]/dparam\n",
    "        \n",
    "        input_params: a classy_params object which contains both a classy_dict and the raw paramerters\n",
    "        dparam_key: they key for the parameter we are taking the derivate of\n",
    "        dparam_step: is a number or vector which \n",
    "    \"\"\"\n",
    "    \n",
    "    cl_evals=[None] * 5\n",
    "    working_param=classy_params(**input_params.raw_params)\n",
    "    for nsteps in (1,2,-1,-2):\n",
    "        working_param.update_param(dparam_key,input_params.raw_params[dparam_key]+nsteps*dparam_step)\n",
    "        cl_evals[nsteps]=get_raw_cl(**working_param.classy_dict)\n",
    "    return_dict={}\n",
    "    for key in cl_evals[1]:\n",
    "        return_dict[key]=(cl_evals[-2][key]-8*cl_evals[-1][key]+8*cl_evals[1][key]-1*cl_evals[2][key])/(12*np.linalg.norm(dparam_step))\n",
    "    return return_dict\n",
    "\n",
    "def to_l_vector(raw_cl_like):\n",
    "    \"\"\" Converts to a raw_cl like dictionary to an array\n",
    "    (has tt,ee,te keys) to an array with columns made of tt,ee and te veco\n",
    "    \n",
    "    \"\"\"\n",
    "    return np.column_stack((raw_cl_like['tt'],raw_cl_like['ee'],raw_cl_like['te']))\n",
    "\n",
    "def multivar_der_of_raw_cl(input_params,dparam_names,dparam_step):\n",
    "    num_dparm=len(dparam_names)\n",
    "    grad_raw_cl=[None]*len(dparam_names)\n",
    "    for i in range(num_dparm):\n",
    "        grad_raw_cl[i]=to_l_vector(d_raw_cl_by_dparm(input_params,dparam_names[i],dparam_step[i]))\n",
    "    \n",
    "    return np.dstack(grad_raw_cl)"
   ]
  },
  {
   "cell_type": "code",
   "execution_count": 14,
   "metadata": {},
   "outputs": [],
   "source": [
    "def positive_orientation(vec):\n",
    "    tol=10**-15\n",
    "    idx=0\n",
    "    length=len(vec)\n",
    "    while(idx<length):\n",
    "        if(abs(vec[idx])<tol):\n",
    "            idx+=1\n",
    "        else:\n",
    "            vec=vec*np.sign(vec[idx])\n",
    "            break\n",
    "    return vec\n",
    "\n",
    "def project_out_vec(init_vec,proj_vec):\n",
    "    return init_vec-(init_vec@proj_vec)*proj_vec\n",
    "\n",
    "def reduce_basis(og_basis,dir_to_remove):\n",
    "    tol=10**-15\n",
    "    goal_len=len(og_basis)-1\n",
    "    reduced_basis=[None]*(goal_len)\n",
    "    norm_proj_dir=dir_to_remove/np.linalg.norm(dir_to_remove)\n",
    "    num_found=0\n",
    "    candidate_idx=0\n",
    "    while(num_found<goal_len):\n",
    "        candidate=project_out_vec(og_basis[candidate_idx],norm_proj_dir)\n",
    "        for i in np.arange(num_found):\n",
    "            candidate=project_out_vec(candidate,reduced_basis[i])\n",
    "        cand_norm=np.linalg.norm(candidate)\n",
    "        if(cand_norm>tol):\n",
    "            reduced_basis[num_found]=positive_orientation(candidate/(cand_norm))\n",
    "            num_found +=1\n",
    "        candidate_idx +=1\n",
    "    return np.array(reduced_basis)\n",
    "\n",
    "def principle_w_directions(class_param,initial_basis):\n",
    "    \"\"\"\n",
    "    returns a list of w-vectors in order of the responce in h\n",
    "    \"\"\"\n",
    "    step_size=10**-6\n",
    "    \n",
    "    num_w_goal=len(initial_basis)\n",
    "    num_w_found=0\n",
    "    found_w=[None]*num_w_goal\n",
    "    current_basis=initial_basis\n",
    "    \n",
    "    _fisher_cl_=fisher_cl(**class_param.classy_dict)\n",
    "    \n",
    "    while(num_w_found<num_w_goal):\n",
    "        dparam_names=['h']+['dsg_w_vals']*(num_w_goal-num_w_found)\n",
    "        dparam_step=[0.00001]+list(current_basis*0.00001)\n",
    "        #dparam_step=np.array([step_size]+list(current_basis*step_size))\n",
    "        _grad_raw_cl_=multivar_der_of_raw_cl(class_param,dparam_names,dparam_step)\n",
    "        _fisher_param_=np.sum(np.transpose(_grad_raw_cl_,(0,2,1))@_fisher_cl_@_grad_raw_cl_,axis=0)\n",
    "        f0i=_fisher_param_[0,1:]\n",
    "        fij=_fisher_param_[1:,1:]\n",
    "        unnorm_w=np.linalg.inv(fij)@f0i\n",
    "        found_w[num_w_found]=(unnorm_w/np.linalg.norm(unnorm_w))@current_basis\n",
    "        current_basis=reduce_basis(current_basis,found_w[num_w_found])\n",
    "        num_w_found+=1\n",
    "    \n",
    "    return found_w"
   ]
  },
  {
   "cell_type": "code",
   "execution_count": 15,
   "metadata": {},
   "outputs": [],
   "source": [
    "\n",
    "\n",
    "rho_3000_bg=gamma.rho(a_of_z(3000))+nu.rho(a_of_z(3000))+baryons.rho(a_of_z(3000))+cdm.rho(a_of_z(3000))\n",
    "rho_0_bg=gamma.rho_0+nu.rho_0+baryons.rho_0+cdm.rho_0\n",
    "\n",
    "EDE_log10a_vals=np.concatenate((np.linspace(start=-15, stop=-4.5, num=10),np.linspace(start=-4, stop=-2, num=5),np.linspace(start=-1, stop=1, num=3)))\n",
    "\n",
    "def EDE_w_model(log10a):\n",
    "    return 1.98*(1/2-1/(1+np.exp(3*(log10a + 3))))\n",
    "    \n",
    "EDE_w_vals =np.array([EDE_w_model(log10a) for log10a in EDE_log10a_vals])\n",
    "\n",
    "EDE=cosmic_fluid_spline_w(rho_3000_bg*0.1,EDE_log10a_vals,EDE_w_vals,a_0=1.,a_ref=a_of_z(3000))\n",
    "EDE_alpha= EDE.rho_0/rho_0_bg\n",
    "\n",
    "EDE_dsg_dict={'dsg_log10a_vals':EDE_log10a_vals,\n",
    "    'dsg_w_vals': EDE_w_vals,\n",
    "    'dsg_alpha' : EDE_alpha,\n",
    "    'dsg_c_eff2':1/3.,\n",
    "    'nap' : 'y',\n",
    "    'dsg_c_vis2':1/3.}\n",
    "\n",
    "#Better way to do this?\n",
    "EDE_basis=np.array([np.array([10**(-1/2)]*10+[0,0,0,0,0]+[0]*3),\n",
    "               np.array([0]*10+[1,0,0,0,0]+[0]*3),\n",
    "               np.array([0]*10+[0,1,0,0,0]+[0]*3),\n",
    "               np.array([0]*10+[0,0,1,0,0]+[0]*3),\n",
    "               np.array([0]*10+[0,0,0,1,0]+[0]*3),\n",
    "               np.array([0]*10+[0,0,0,0,1]+[0]*3),\n",
    "               np.array([0]*10+[0,0,0,0,0]+[2**(-1/2)]*3)]\n",
    "              )\n",
    "\n",
    "Tcmb_pk = 2.7255 # Kelvin \n",
    "Nur_pk = 3.046;\n",
    "h_pk = 0.67556;\n",
    "omega_b_pk = 0.022032;\n",
    "omega_cdm_pk = 0.12038;\n",
    "\n",
    "EDE_test_params=classy_params(**{**EDE_dsg_dict,**{'h':h_pk,'T_cmb':Tcmb_pk,'N_ur':Nur_pk,'omega_b':omega_b_pk,'omega_cdm':omega_cdm_pk}})\n",
    "\n"
   ]
  },
  {
   "cell_type": "code",
   "execution_count": 16,
   "metadata": {},
   "outputs": [],
   "source": [
    "principle_w=principle_w_directions(EDE_test_params,EDE_basis)"
   ]
  },
  {
   "cell_type": "code",
   "execution_count": 17,
   "metadata": {},
   "outputs": [
    {
     "data": {
      "text/plain": [
       "Text(0.5, 1.0, 'GDM Example EDE 7 Parameter Spline Model ')"
      ]
     },
     "execution_count": 17,
     "metadata": {},
     "output_type": "execute_result"
    },
    {
     "data": {
      "image/png": "[encoded data removed]",
      "text/plain": [
       "<Figure size 720x432 with 1 Axes>"
      ]
     },
     "metadata": {
      "needs_background": "light"
     },
     "output_type": "display_data"
    }
   ],
   "source": [
    "plt.figure(1,figsize=(10,6))\n",
    "x_vals=np.arange(-15,1,1/10)\n",
    "y_vals=interpolate.splev(x_vals,EDE.w_spline_rep)\n",
    "plt.plot(EDE_log10a_vals[:9],EDE_w_vals[:9],'o',EDE_log10a_vals[10],EDE_w_vals[10],'o',EDE_log10a_vals[11],EDE_w_vals[11],'o',EDE_log10a_vals[12],EDE_w_vals[12],'o',EDE_log10a_vals[13],EDE_w_vals[13],'o',EDE_log10a_vals[14],EDE_w_vals[14],'o',EDE_log10a_vals[15:],EDE_w_vals[15:],'o',x_vals,y_vals)\n",
    "plt.xlabel('Log_10(a)')\n",
    "plt.ylabel('W')\n",
    "plt.title('GDM Example EDE 7 Parameter Spline Model ')"
   ]
  },
  {
   "cell_type": "code",
   "execution_count": 18,
   "metadata": {},
   "outputs": [
    {
     "data": {
      "text/plain": [
       "-4.0"
      ]
     },
     "execution_count": 18,
     "metadata": {},
     "output_type": "execute_result"
    }
   ],
   "source": [
    "EDE_log10a_vals[10]"
   ]
  },
  {
   "cell_type": "code",
   "execution_count": 28,
   "metadata": {},
   "outputs": [
    {
     "data": {
      "text/plain": [
       "<matplotlib.legend.Legend at 0x7f0f1ee6bb10>"
      ]
     },
     "execution_count": 28,
     "metadata": {},
     "output_type": "execute_result"
    },
    {
     "data": {
      "image/png": "[encoded data removed]",
      "text/plain": [
       "<Figure size 720x432 with 1 Axes>"
      ]
     },
     "metadata": {
      "needs_background": "light"
     },
     "output_type": "display_data"
    }
   ],
   "source": [
    "plt.figure(2,figsize=(10,6))\n",
    "x_vals=np.arange(-15,0,1/10)\n",
    "y_vals=interpolate.splev(x_vals,EDE.w_spline_rep)\n",
    "prin_w_spline_vec=[None]*7\n",
    "for i in range(1):\n",
    "    prin_w_spline_vec[i]=interpolate.splrep(EDE_log10a_vals,principle_w[i], s=0)\n",
    "    y_vals=interpolate.splev(x_vals,prin_w_spline_vec[i])\n",
    "    plt.plot(x_vals,y_vals)\n",
    "\n",
    "plt.xlabel('$Log_{10}$(a)')\n",
    "plt.ylabel('Δw')\n",
    "plt.title('Best Δw directions to Increase $H_0$')\n",
    "plt.legend(np.arange(1,8))"
   ]
  },
  {
   "cell_type": "code",
   "execution_count": 26,
   "metadata": {},
   "outputs": [
    {
     "data": {
      "text/plain": [
       "Text(0.5, 1.0, 'Overall Shape of Best w to Increase $H_0$*')"
      ]
     },
     "execution_count": 26,
     "metadata": {},
     "output_type": "execute_result"
    },
    {
     "data": {
      "image/png": "[encoded data removed]",
      "text/plain": [
       "<Figure size 720x432 with 1 Axes>"
      ]
     },
     "metadata": {
      "needs_background": "light"
     },
     "output_type": "display_data"
    }
   ],
   "source": [
    "plt.figure(3,figsize=(10,6))\n",
    "x_vals=np.arange(-15,0,1/10)\n",
    "y0_vals=interpolate.splev(x_vals,EDE.w_spline_rep)\n",
    "prin_w_spline_vec=[None]*7\n",
    "for i in range(3):\n",
    "    prin_w_spline_vec[i]=interpolate.splrep(EDE_log10a_vals,principle_w[i], s=0)\n",
    "    y_vals=interpolate.splev(x_vals,prin_w_spline_vec[i])\n",
    "    plt.plot(x_vals,y_vals+y0_vals)\n",
    "\n",
    "    plt.legend(np.arange(1,8))\n",
    "plt.xlabel('$Log_{10}$(a)')\n",
    "plt.ylabel('W')\n",
    "plt.title('Overall Shape of Best w to Increase $H_0$*')"
   ]
  },
  {
   "cell_type": "code",
   "execution_count": 17,
   "metadata": {},
   "outputs": [
    {
     "data": {
      "text/plain": [
       "[array([ 0.12579747,  0.46067088, -0.25884386, -0.17781462,  0.74233594,\n",
       "        -0.3492995 ,  0.01632095]),\n",
       " array([ 0.10398226,  0.55587729,  0.27601925, -0.03986227, -0.50704074,\n",
       "        -0.50527417, -0.30003367]),\n",
       " array([ 0.48764173,  0.33146137, -0.472614  ,  0.49398303, -0.23049365,\n",
       "         0.23462168,  0.27709388]),\n",
       " array([ 0.2183688 , -0.18766219, -0.56191578, -0.37277597, -0.14559037,\n",
       "         0.09720087, -0.65707088]),\n",
       " array([-0.52622745,  0.38713348, -0.31264425, -0.47413634, -0.26578367,\n",
       "         0.24542102,  0.34610433]),\n",
       " array([-0.35776654, -0.32479119, -0.46651505,  0.28712884, -0.14177476,\n",
       "        -0.65218938,  0.14485664]),\n",
       " array([ 0.53195025, -0.27988818,  0.04813705, -0.5258931 , -0.16365242,\n",
       "        -0.26946255,  0.51031227])]"
      ]
     },
     "execution_count": 17,
     "metadata": {},
     "output_type": "execute_result"
    }
   ],
   "source": [
    "dsg_dict={'dsg_log10a_vals':np.concatenate(([-15],np.arange(-4,-1.9,.5),[1])),\n",
    "    'dsg_w_vals':np.zeros(len(np.concatenate(([-15],np.arange(-7,-2),[1])))),\n",
    "    'dsg_alpha' : 0.00001200901405,\n",
    "    'dsg_c_eff2':1/3.,\n",
    "    'nap' : 'y',\n",
    "    'dsg_c_vis2':1/3.}\n",
    "dsg_test_params=classy_params(**{**dsg_dict,**{'h':0.67556}})\n",
    "principle_w_directions(dsg_test_params,np.identity(7))"
   ]
  },
  {
   "cell_type": "code",
   "execution_count": 18,
   "metadata": {},
   "outputs": [],
   "source": [
    "fisher_cl_test=fisher_cl(**EDE_test_params.classy_dict)"
   ]
  },
  {
   "cell_type": "code",
   "execution_count": 19,
   "metadata": {},
   "outputs": [],
   "source": [
    "dparam_names=['h']+['dsg_w_vals']*7+['T_cmb','N_ur','omega_b','omega_cdm']\n",
    "step_size=10**-5\n",
    "dparam_step=[step_size]+list(EDE_basis*step_size)+[step_size]*5\n",
    "\n",
    "\n",
    "grad_raw_cl=multivar_der_of_raw_cl(EDE_test_params,dparam_names,dparam_step)\n"
   ]
  },
  {
   "cell_type": "code",
   "execution_count": 20,
   "metadata": {},
   "outputs": [],
   "source": [
    "fisher_param_l=np.transpose(grad_raw_cl,(0,2,1))@fisher_cl_test@grad_raw_cl\n",
    "fisher_param=np.sum(fisher_param_l,axis=0)"
   ]
  },
  {
   "cell_type": "code",
   "execution_count": 21,
   "metadata": {},
   "outputs": [
    {
     "data": {
      "text/plain": [
       "array([[ 2.00175904e-21, -1.86869262e-22, -4.06660315e-22,\n",
       "        -1.00125243e-23, -5.10885001e-22, -6.33006619e-22,\n",
       "        -1.03517221e-21, -5.13192140e-22,  4.13079287e-22,\n",
       "         8.84077989e-23, -3.37836187e-20,  7.30531582e-21],\n",
       "       [-1.86869262e-22,  2.23761492e-23,  3.62115431e-23,\n",
       "         3.21973590e-24,  4.23360426e-23,  5.42925462e-23,\n",
       "         9.44269698e-23,  4.87808993e-23, -4.59597104e-23,\n",
       "        -1.54043602e-23,  3.31788305e-21, -6.70958307e-22],\n",
       "       [-4.06660315e-22,  3.62115431e-23,  8.84188466e-23,\n",
       "        -2.42687654e-24,  1.03984018e-22,  1.26565255e-22,\n",
       "         2.15772909e-22,  1.08459945e-22, -8.59359818e-23,\n",
       "        -1.62485550e-23,  7.15591408e-21, -1.49882526e-21],\n",
       "       [-1.00125243e-23,  3.21973590e-24, -2.42687654e-24,\n",
       "         3.95968964e-24,  1.51933710e-24,  4.04959687e-24,\n",
       "         1.73067138e-25, -3.10078692e-25, -1.97514088e-24,\n",
       "        -3.37950006e-24, -2.26203663e-23, -2.38021486e-23],\n",
       "       [-5.10885001e-22,  4.23360426e-23,  1.03984018e-22,\n",
       "         1.51933710e-24,  1.40545774e-22,  1.68356530e-22,\n",
       "         2.64153741e-22,  1.28367999e-22, -9.05729681e-23,\n",
       "        -1.19438250e-23,  8.15519422e-21, -1.88058187e-21],\n",
       "       [-6.33006619e-22,  5.42925462e-23,  1.26565255e-22,\n",
       "         4.04959687e-24,  1.68356530e-22,  2.09051089e-22,\n",
       "         3.24424150e-22,  1.58014472e-22, -1.20624305e-22,\n",
       "        -2.13866817e-23,  1.02540350e-20, -2.31344546e-21],\n",
       "       [-1.03517221e-21,  9.44269698e-23,  2.15772909e-22,\n",
       "         1.73067138e-25,  2.64153741e-22,  3.24424150e-22,\n",
       "         5.44633167e-22,  2.69259481e-22, -2.14228569e-22,\n",
       "        -4.16284365e-23,  1.77587187e-20, -3.79348956e-21],\n",
       "       [-5.13192140e-22,  4.87808993e-23,  1.08459945e-22,\n",
       "        -3.10078692e-25,  1.28367999e-22,  1.58014472e-22,\n",
       "         2.69259481e-22,  1.35713032e-22, -1.11499882e-22,\n",
       "        -2.46824641e-23,  9.00756779e-21, -1.88008739e-21],\n",
       "       [ 4.13079287e-22, -4.59597104e-23, -8.59359818e-23,\n",
       "        -1.97514088e-24, -9.05729681e-23, -1.20624305e-22,\n",
       "        -2.14228569e-22, -1.11499882e-22,  1.09297370e-22,\n",
       "         3.44961752e-23, -7.79371293e-21,  1.48979215e-21],\n",
       "       [ 8.84077989e-23, -1.54043602e-23, -1.62485550e-23,\n",
       "        -3.37950006e-24, -1.19438250e-23, -2.13866817e-23,\n",
       "        -4.16284365e-23, -2.46824641e-23,  3.44961752e-23,\n",
       "         1.76239852e-23, -1.90762790e-21,  3.01958595e-22],\n",
       "       [-3.37836187e-20,  3.31788305e-21,  7.15591408e-21,\n",
       "        -2.26203663e-23,  8.15519422e-21,  1.02540350e-20,\n",
       "         1.77587187e-20,  9.00756779e-21, -7.79371293e-21,\n",
       "        -1.90762790e-21,  6.08045348e-19, -1.23327756e-19],\n",
       "       [ 7.30531582e-21, -6.70958307e-22, -1.49882526e-21,\n",
       "        -2.38021486e-23, -1.88058187e-21, -2.31344546e-21,\n",
       "        -3.79348956e-21, -1.88008739e-21,  1.48979215e-21,\n",
       "         3.01958595e-22, -1.23327756e-19,  2.67269449e-20]])"
      ]
     },
     "execution_count": 21,
     "metadata": {},
     "output_type": "execute_result"
    }
   ],
   "source": [
    "fisher_param"
   ]
  },
  {
   "cell_type": "code",
   "execution_count": 22,
   "metadata": {},
   "outputs": [
    {
     "data": {
      "image/png": "[encoded data removed]",
      "text/plain": [
       "<Figure size 432x288 with 2 Axes>"
      ]
     },
     "metadata": {
      "needs_background": "light"
     },
     "output_type": "display_data"
    }
   ],
   "source": [
    "ax = sns.heatmap(fisher_param, linewidth=0.5)\n",
    "plt.show()"
   ]
  },
  {
   "cell_type": "code",
   "execution_count": 23,
   "metadata": {},
   "outputs": [
    {
     "data": {
      "image/png": "[encoded data removed]",
      "text/plain": [
       "<Figure size 432x288 with 2 Axes>"
      ]
     },
     "metadata": {
      "needs_background": "light"
     },
     "output_type": "display_data"
    }
   ],
   "source": [
    "ax = sns.heatmap(np.linalg.inv(fisher_param), linewidth=0.5)\n",
    "plt.show()"
   ]
  },
  {
   "cell_type": "code",
   "execution_count": 24,
   "metadata": {},
   "outputs": [
    {
     "data": {
      "text/plain": [
       "<matplotlib.legend.Legend at 0x7f958426c710>"
      ]
     },
     "execution_count": 24,
     "metadata": {},
     "output_type": "execute_result"
    },
    {
     "data": {
      "image/png": "[encoded data removed]",
      "text/plain": [
       "<Figure size 432x288 with 1 Axes>"
      ]
     },
     "metadata": {
      "needs_background": "light"
     },
     "output_type": "display_data"
    }
   ],
   "source": [
    "k_vals=np.arange(2,2501)\n",
    "plt.figure(1)\n",
    "for i in np.arange(1,8):\n",
    "    plt.plot(k_vals,grad_raw_cl[:,0,i]*k_vals*(k_vals+1)/2/np.pi)\n",
    "\n",
    "plt.legend(np.arange(1,8))\n"
   ]
  },
  {
   "cell_type": "code",
   "execution_count": 25,
   "metadata": {},
   "outputs": [
    {
     "ename": "AttributeError",
     "evalue": "module 'matplotlib.pyplot' has no attribute 'logplot'",
     "output_type": "error",
     "traceback": [
      "\u001b[0;31m---------------------------------------------------------------------------\u001b[0m",
      "\u001b[0;31mAttributeError\u001b[0m                            Traceback (most recent call last)",
      "\u001b[0;32m<ipython-input-25-f12f3d1e5e88>\u001b[0m in \u001b[0;36m<module>\u001b[0;34m\u001b[0m\n\u001b[1;32m      1\u001b[0m \u001b[0mplt\u001b[0m\u001b[0;34m.\u001b[0m\u001b[0mfigure\u001b[0m\u001b[0;34m(\u001b[0m\u001b[0;36m1\u001b[0m\u001b[0;34m)\u001b[0m\u001b[0;34m\u001b[0m\u001b[0;34m\u001b[0m\u001b[0m\n\u001b[1;32m      2\u001b[0m \u001b[0;32mfor\u001b[0m \u001b[0mi\u001b[0m \u001b[0;32min\u001b[0m \u001b[0mnp\u001b[0m\u001b[0;34m.\u001b[0m\u001b[0marange\u001b[0m\u001b[0;34m(\u001b[0m\u001b[0;36m1\u001b[0m\u001b[0;34m,\u001b[0m\u001b[0;36m8\u001b[0m\u001b[0;34m)\u001b[0m\u001b[0;34m:\u001b[0m\u001b[0;34m\u001b[0m\u001b[0;34m\u001b[0m\u001b[0m\n\u001b[0;32m----> 3\u001b[0;31m     \u001b[0mplt\u001b[0m\u001b[0;34m.\u001b[0m\u001b[0mlogplot\u001b[0m\u001b[0;34m(\u001b[0m\u001b[0mk_vals\u001b[0m\u001b[0;34m,\u001b[0m\u001b[0mgrad_raw_cl\u001b[0m\u001b[0;34m[\u001b[0m\u001b[0;34m:\u001b[0m\u001b[0;34m,\u001b[0m\u001b[0;36m1\u001b[0m\u001b[0;34m,\u001b[0m\u001b[0mi\u001b[0m\u001b[0;34m]\u001b[0m\u001b[0;34m*\u001b[0m\u001b[0mk_vals\u001b[0m\u001b[0;34m*\u001b[0m\u001b[0;34m(\u001b[0m\u001b[0mk_vals\u001b[0m\u001b[0;34m+\u001b[0m\u001b[0;36m1\u001b[0m\u001b[0;34m)\u001b[0m\u001b[0;34m/\u001b[0m\u001b[0;36m2\u001b[0m\u001b[0;34m/\u001b[0m\u001b[0mnp\u001b[0m\u001b[0;34m.\u001b[0m\u001b[0mpi\u001b[0m\u001b[0;34m)\u001b[0m\u001b[0;34m\u001b[0m\u001b[0;34m\u001b[0m\u001b[0m\n\u001b[0m\u001b[1;32m      4\u001b[0m \u001b[0;34m\u001b[0m\u001b[0m\n\u001b[1;32m      5\u001b[0m \u001b[0mplt\u001b[0m\u001b[0;34m.\u001b[0m\u001b[0mlegend\u001b[0m\u001b[0;34m(\u001b[0m\u001b[0mnp\u001b[0m\u001b[0;34m.\u001b[0m\u001b[0marange\u001b[0m\u001b[0;34m(\u001b[0m\u001b[0;36m1\u001b[0m\u001b[0;34m,\u001b[0m\u001b[0;36m8\u001b[0m\u001b[0;34m)\u001b[0m\u001b[0;34m)\u001b[0m\u001b[0;34m\u001b[0m\u001b[0;34m\u001b[0m\u001b[0m\n",
      "\u001b[0;31mAttributeError\u001b[0m: module 'matplotlib.pyplot' has no attribute 'logplot'"
     ]
    },
    {
     "data": {
      "text/plain": [
       "<Figure size 432x288 with 0 Axes>"
      ]
     },
     "metadata": {},
     "output_type": "display_data"
    }
   ],
   "source": [
    "plt.figure(1)\n",
    "for i in np.arange(1,8):\n",
    "    plt.logplot(k_vals,grad_raw_cl[:,1,i]*k_vals*(k_vals+1)/2/np.pi)\n",
    "\n",
    "plt.legend(np.arange(1,8))"
   ]
  },
  {
   "cell_type": "code",
   "execution_count": null,
   "metadata": {},
   "outputs": [],
   "source": [
    "plt.figure(1)\n",
    "for i in np.arange(1,8):\n",
    "    plt.semilogx(k_vals,grad_raw_cl[:,2,i]*k_vals*(k_vals+1)/2/np.pi)\n",
    "\n",
    "plt.legend(np.arange(1,8))"
   ]
  },
  {
   "cell_type": "code",
   "execution_count": null,
   "metadata": {},
   "outputs": [],
   "source": [
    "anchors=np.arange(-15,2)\n",
    "EDE_vals = np.array([-0.999]*10+[-0.9,-0.3,0,0.3,0.9]+[0.999]*2)\n",
    "w_spline_rep=interpolate.splrep(anchors,EDE_vals, s=0)\n",
    "w_spline_rep\n",
    "\n",
    "plt.figure(4)\n",
    "plt.plot(np.arange(-15,2),interpolate.splev(np.arange(-15,2),w_spline_rep))"
   ]
  },
  {
   "cell_type": "code",
   "execution_count": null,
   "metadata": {},
   "outputs": [],
   "source": [
    "k_vals=np.arange(2501)[2:]"
   ]
  },
  {
   "cell_type": "code",
   "execution_count": null,
   "metadata": {},
   "outputs": [],
   "source": [
    "k_vals"
   ]
  },
  {
   "cell_type": "code",
   "execution_count": null,
   "metadata": {},
   "outputs": [],
   "source": []
  }
 ],
 "metadata": {
  "kernelspec": {
   "display_name": "Python 3",
   "language": "python",
   "name": "python3"
  },
  "language_info": {
   "codemirror_mode": {
    "name": "ipython",
    "version": 3
   },
   "file_extension": ".py",
   "mimetype": "text/x-python",
   "name": "python",
   "nbconvert_exporter": "python",
   "pygments_lexer": "ipython3",
   "version": "3.7.7"
  }
 },
 "nbformat": 4,
 "nbformat_minor": 2
}
